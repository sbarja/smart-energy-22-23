{
 "cells": [
  {
   "cell_type": "markdown",
   "metadata": {},
   "source": [
    "<img src=\"Figures/top_ML.png\" alt=\"Drawing\" style=\"width: 1000px;\"/>"
   ]
  },
  {
   "cell_type": "markdown",
   "metadata": {
    "slideshow": {
     "slide_type": "slide"
    }
   },
   "source": [
    "# Estadística "
   ]
  },
  {
   "cell_type": "markdown",
   "metadata": {},
   "source": [
    "### CONTENIDOS\n",
    "\n",
    "* Muestra vs Población\n",
    "* Resumen y limpieza de datos\n",
    "* Estadística descriptiva\n",
    "* Probabilidad"
   ]
  },
  {
   "cell_type": "markdown",
   "metadata": {},
   "source": [
    "## 1. Muestra vs. Población\n",
    "\n",
    "Siempre que se pueda, será mejor usar la población para responder a nuestras preguntas, pero a veces esto no es posible (no se tienen todos los datos, no todos los clientes tienen un Smart meter, recopilar todos los datos en una misma fuente es difícil, etc). En estos casos usaremos una muestra. \n",
    "\n",
    "¿Qué problema conlleva esto? Veamos un ejemplo, con nuestro dataset de Londres"
   ]
  },
  {
   "cell_type": "code",
   "execution_count": null,
   "metadata": {},
   "outputs": [],
   "source": [
    "import pandas as pd #importamos Pandas!\n",
    "londres = pd.read_csv('Data/block_13_diario.csv')\n",
    "londres.head(10)\n",
    "londres"
   ]
  },
  {
   "cell_type": "code",
   "execution_count": null,
   "metadata": {},
   "outputs": [],
   "source": [
    "Muestra1 = londres.iloc[1:50,4]\n",
    "Muestra2 = londres.iloc[1345:18540,4]"
   ]
  },
  {
   "cell_type": "code",
   "execution_count": null,
   "metadata": {},
   "outputs": [],
   "source": [
    "Muestra1.describe()"
   ]
  },
  {
   "cell_type": "code",
   "execution_count": null,
   "metadata": {},
   "outputs": [],
   "source": [
    "Muestra2.describe()"
   ]
  },
  {
   "cell_type": "markdown",
   "metadata": {},
   "source": [
    "Como se puede observar para cada muestra obtenemos métricas o estadísticas distintas. Este error, es el *error de estimación* o el *error muestral* \n",
    "\n",
    "<h4><center>error de estimación = parámetro - estadística</center></h4>\n",
    "\n"
   ]
  },
  {
   "cell_type": "code",
   "execution_count": null,
   "metadata": {},
   "outputs": [],
   "source": [
    "Mean_pob=londres['energy_max'].mean()\n",
    "error1=Mean_pob-Muestra1.mean()\n",
    "error2=Mean_pob-Muestra2.mean()\n",
    "print('Error muestra 1:',error1)\n",
    "print('Error muestra 2:',error2)"
   ]
  },
  {
   "cell_type": "markdown",
   "metadata": {},
   "source": [
    "Si lo hacemos para varias muestras, con el mismo número de observaciones de manera aleatória, de manera automática:"
   ]
  },
  {
   "cell_type": "code",
   "execution_count": null,
   "metadata": {},
   "outputs": [],
   "source": [
    "import matplotlib.pyplot as plt\n",
    "\n",
    "num_observaciones = 50\n",
    "num_muestras = 100\n",
    "lista_mean=[]\n",
    "for muestra in range(num_muestras):\n",
    "    s=londres['energy_max'].sample(num_observaciones,random_state = muestra)\n",
    "    lista_mean.append(s.mean())\n",
    "    \n",
    "plt.scatter(range(1,101),lista_mean)\n",
    "plt.axhline(londres['energy_max'].mean())\n",
    "plt.xlabel('Num de muestra')\n",
    "plt.ylabel('Media aritmética')\n",
    "plt.show()"
   ]
  },
  {
   "cell_type": "markdown",
   "metadata": {},
   "source": [
    "¿Cómo podemos disminuir o solucionar esto? \n",
    "\n",
    "Una manera es, como se ha dicho, intentar acercarnos el máximo a toda la población. Veamos en nuestro ejemplo:"
   ]
  },
  {
   "cell_type": "code",
   "execution_count": null,
   "metadata": {},
   "outputs": [],
   "source": [
    "num_observaciones = 50\n",
    "num_muestras = 100\n",
    "listas_mean=[]\n",
    "for num_observaciones in [50,250,500,1000]:\n",
    "    lista_mean=[]\n",
    "    for muestra in range(num_muestras):\n",
    "        s=londres['energy_max'].sample(num_observaciones,random_state = muestra)\n",
    "        lista_mean.append(s.mean())\n",
    "    listas_mean.append(lista_mean)\n",
    "    \n",
    "plt.figure(figsize=(15,8))\n",
    "\n",
    "plt.subplot(2,2,1)\n",
    "plt.scatter(range(1,101),listas_mean[0])\n",
    "plt.axhline(londres['energy_max'].mean())\n",
    "plt.ylim(0.6, 1.1)\n",
    "plt.ylabel('Media aritmética')\n",
    "plt.title('50 observaciones')\n",
    "\n",
    "plt.subplot(2,2,2)\n",
    "plt.scatter(range(1,101),listas_mean[1])\n",
    "plt.axhline(londres['energy_max'].mean())\n",
    "plt.ylim(0.6, 1.1)\n",
    "plt.ylabel('Media aritmética')\n",
    "plt.title('250 observaciones')\n",
    "\n",
    "plt.subplot(2,2,3)\n",
    "plt.scatter(range(1,101),listas_mean[2])\n",
    "plt.axhline(londres['energy_max'].mean())\n",
    "plt.ylim(0.6, 1.1)\n",
    "plt.ylabel('Media aritmética')\n",
    "plt.title('500 observaciones')\n",
    "\n",
    "plt.subplot(2,2,4)\n",
    "plt.scatter(range(1,101),listas_mean[3])\n",
    "plt.axhline(londres['energy_max'].mean())\n",
    "plt.ylim(0.6, 1.1)\n",
    "plt.ylabel('Media aritmética')\n",
    "plt.title('1000 observaciones')\n",
    "\n",
    "plt.show()"
   ]
  },
  {
   "cell_type": "markdown",
   "metadata": {},
   "source": [
    "También debemos asegurar que la muestra sea representativa de las diferentes posbles categorias que haya en nuestro dataset. Para eso se puede usar *stratified sampling* o muestreo estratigicado. \n",
    "\n",
    "En el muestreo estratificado, se dividen a los sujetos en subgrupos denominados estratos en función de las características que comparten (por ejemplo, raza, sexo, nivel de estudios). Una vez divididos, cada subgrupo se muestrea aleatoriamente utilizando otro método de muestreo probabilístico.\n",
    "\n",
    "\n",
    "<img src=\"Figures/stratified_sampling.jpg\" alt=\"Drawing\" style=\"width: 450px;\"/>"
   ]
  },
  {
   "cell_type": "markdown",
   "metadata": {},
   "source": [
    "## 2. Limpieza y resumen de datos\n",
    "\n",
    "Pandas nos ofrece varias opciones para obtener un resumen de los datos como el método *describe* visto anteriormente. Además, podemos usar otros métodos como:\n",
    "\n",
    "<img src=\"Figures/pandas_summary.png\" alt=\"Drawing\" style=\"width: 450px;\"/>\n",
    "\n",
    "También son interesantes los métodos *value_counts* i *nunique*"
   ]
  },
  {
   "cell_type": "code",
   "execution_count": null,
   "metadata": {},
   "outputs": [],
   "source": [
    "londres_raw = pd.read_csv('Data/block_13_diario_raw.csv')\n",
    "\n",
    "londres_raw['energy_min'].max()"
   ]
  },
  {
   "cell_type": "code",
   "execution_count": null,
   "metadata": {},
   "outputs": [],
   "source": [
    "# Ejercicio\n",
    "# Calcular la std de la energía mediana del contador MAC000113. R= 0.180486\n"
   ]
  },
  {
   "cell_type": "markdown",
   "metadata": {},
   "source": [
    "Como ya se ha visto, hay varias opciones para tratar con valores vacíos, pero pandas nos ofrece algunas opciones rápidas e interesantes para ir rápido\n",
    "\n",
    "<img src=\"Figures/missing.png\" alt=\"Drawing\" style=\"width: 450px;\"/>"
   ]
  },
  {
   "cell_type": "markdown",
   "metadata": {},
   "source": [
    "**Análisis Exploratorio de Datos - Ejemplo**"
   ]
  },
  {
   "cell_type": "markdown",
   "metadata": {},
   "source": [
    "Primero, identificamos los tipos de valores que hay en cada columna. Esto es necesario ya que, como veremos más adelante, columnas numéricas y no numéricas se tratan usando métodos distintos."
   ]
  },
  {
   "cell_type": "code",
   "execution_count": null,
   "metadata": {},
   "outputs": [],
   "source": [
    "londres_raw.dtypes"
   ]
  },
  {
   "cell_type": "markdown",
   "metadata": {},
   "source": [
    "Para ver si hay valores nulos, se puede usar el método .isna(), que devuelve convierte cada casilla en True (si es un NaN) o False (si no lo es), junto con el método .sum() para obtener el número total de NaNs por columna."
   ]
  },
  {
   "cell_type": "code",
   "execution_count": null,
   "metadata": {},
   "outputs": [],
   "source": [
    "londres_raw.isna().sum()"
   ]
  },
  {
   "cell_type": "markdown",
   "metadata": {},
   "source": [
    "### Ejemplos\n",
    "Vamos a tratar los NA de las distintas columnas con métodos diferentes:\n",
    "* LCLid, energy_std: Copiaremos el valor de arriba.\n",
    "* energy_median, energy_mean: Copiar el valor de abajo\n",
    "* energy_count: Fijaremos el valor \"48\".\n",
    "* energy_sum: Interpolación con method='linear'.\n",
    "* energy_max: Mean de energy_max.\n",
    "* energy_min: Mediana de energy_min."
   ]
  },
  {
   "cell_type": "code",
   "execution_count": null,
   "metadata": {},
   "outputs": [],
   "source": [
    "# Ejemplo: LCLid\n",
    "londres_raw['LCLid'].fillna(method=####, inplace=True)\n",
    "# Ejercicio: energy_std\n",
    "\n",
    "\n",
    "# Ejemplo: energy_count\n",
    "londres_raw['energy_count'].fillna(####, inplace=True)\n",
    "\n",
    "\n",
    "\n",
    "# Ejemplo: energy_median\n",
    "londres_raw['energy_median'].fillna(method=####, inplace=True)\n",
    "# Ejercicio: energy_mean\n",
    "\n",
    "\n",
    "\n",
    "# Ejemplo: energy_sum\n",
    "londres_raw['energy_sum'].interpolate(method=####, inplace=True)\n",
    "\n",
    "\n",
    "# Ejemplo: energy_max\n",
    "londres_raw['energy_max'].fillna(londres['energy_max'].mean(), inplace=True)\n",
    "# Ejercicio: energy_min\n",
    "\n",
    "\n",
    "londres_raw.isna().sum()"
   ]
  },
  {
   "cell_type": "markdown",
   "metadata": {},
   "source": [
    "## 3. Estadística descriptiva"
   ]
  },
  {
   "cell_type": "markdown",
   "metadata": {},
   "source": [
    "### Media, mediana y moda"
   ]
  },
  {
   "cell_type": "markdown",
   "metadata": {},
   "source": [
    "#### Media\n",
    "\n",
    "Podemos pensar que la media es el centro de gravedad de los datos de una distribución. Veamos un ejemplo y discutamos qué información se puede obtener y como nos puede ayudar o, al revés, desinformar si no se va con cuidado."
   ]
  },
  {
   "cell_type": "code",
   "execution_count": null,
   "metadata": {},
   "outputs": [],
   "source": [
    "import random\n",
    "import numpy as np\n",
    "\n",
    "poblacion = [0,2,3,3,3,4,13]\n",
    "muestra = random.choices(poblacion, k=4) #Seleccionar aleatoriamente 4 valores de la población\n",
    "\n",
    "poblacion_media = np.mean(poblacion)\n",
    "muestra_media = np.mean(muestra)\n",
    "\n",
    "print('Media poblacion:', poblacion_media)\n",
    "print('Media muestra:', muestra_media)\n",
    "print(muestra)"
   ]
  },
  {
   "cell_type": "markdown",
   "metadata": {},
   "source": [
    "#### Media Ponderada y Mediana\n",
    "\n",
    "Observemos el dataset *netherlands*"
   ]
  },
  {
   "cell_type": "code",
   "execution_count": null,
   "metadata": {},
   "outputs": [],
   "source": [
    "netherlands = pd.read_csv('Data/Electricity_Netherlands/coteq_electricity_2019.csv')\n",
    "netherlands.dropna()\n",
    "netherlands.head(3)"
   ]
  },
  {
   "cell_type": "markdown",
   "metadata": {},
   "source": [
    "Si se quiere obtener la media del consumo de todo el dataset, se podría calcular como:"
   ]
  },
  {
   "cell_type": "code",
   "execution_count": null,
   "metadata": {},
   "outputs": [],
   "source": [
    "netherlands[['annual_consume']].mean()"
   ]
  },
  {
   "cell_type": "markdown",
   "metadata": {},
   "source": [
    "Pero si observamos bien el *dataset* podemos ver que esta media no es justa. ¿Por qué?"
   ]
  },
  {
   "cell_type": "code",
   "execution_count": null,
   "metadata": {},
   "outputs": [],
   "source": [
    "def weighted(values, weights):\n",
    "    return sum([a*b for a,b in zip(values, weights)])/sum(weights)\n",
    "\n",
    "weighted(netherlands['annual_consume'], netherlands['num_connections'])"
   ]
  },
  {
   "cell_type": "markdown",
   "metadata": {},
   "source": [
    "Hemos visto como hay veces que computar la media, auque se pueda hacer, no sería correcto. En otras ocasiones, lo que nos pasará es que directamente no podemos calcular la media. Por ejemplo"
   ]
  },
  {
   "cell_type": "code",
   "execution_count": null,
   "metadata": {},
   "outputs": [],
   "source": [
    "Edad_clientes = [34,23,54,23,'más de 80',76,34,43,65,57,'más de 80',43,39,49]"
   ]
  },
  {
   "cell_type": "markdown",
   "metadata": {},
   "source": [
    "En este caso, la **mediana** puede ser una buena medida alternativa."
   ]
  },
  {
   "cell_type": "markdown",
   "metadata": {},
   "source": [
    "Otra ventaja de la mediana es que no considera de manera equitativa todos los elementos de la distribución, lo que la hace más resistente a cambios en la distribución."
   ]
  },
  {
   "cell_type": "markdown",
   "metadata": {},
   "source": [
    "#### Moda\n",
    "\n",
    "Hemos visto que en ocasiones la media no nos dará la información buscada, o simplemente no se podrá calcular y usaremos la mediana. En otras ocasiones, pero, la moda también nos puede ser de utilidad. Por ejemplo:"
   ]
  },
  {
   "cell_type": "code",
   "execution_count": null,
   "metadata": {},
   "outputs": [],
   "source": [
    "netherlands['city'].head(5)"
   ]
  },
  {
   "cell_type": "code",
   "execution_count": null,
   "metadata": {},
   "outputs": [],
   "source": [
    "netherlands['city'].value_counts()"
   ]
  },
  {
   "cell_type": "markdown",
   "metadata": {},
   "source": [
    "### Variabilidad\n",
    "\n",
    "Veamos dos distribuciones:"
   ]
  },
  {
   "cell_type": "code",
   "execution_count": null,
   "metadata": {},
   "outputs": [],
   "source": [
    "import numpy as np\n",
    "\n",
    "A=[4,4,4,4]\n",
    "B=[0,8,0,8]\n",
    "\n",
    "print('La media de A es:',np.mean(A))\n",
    "print('La media de B es:',np.mean(B))"
   ]
  },
  {
   "cell_type": "markdown",
   "metadata": {},
   "source": [
    "Efectivamente, dos distribuciones muy distintas pueden tener la misma media.\n",
    "\n",
    "Qué otro parámetro nos puede aydar a distinguir las dos distribuciones? Por ejemplo el rango:"
   ]
  },
  {
   "cell_type": "code",
   "execution_count": null,
   "metadata": {},
   "outputs": [],
   "source": [
    "rango_A=max(A)-min(A)\n",
    "rango_B=max(B)-min(B)\n",
    "\n",
    "print('El rango de A es:',rango_A)\n",
    "print('El rango de B es:',rango_B)"
   ]
  },
  {
   "cell_type": "markdown",
   "metadata": {},
   "source": [
    "Pero el rango solo considera dos valores, y no es una buena solución:"
   ]
  },
  {
   "cell_type": "code",
   "execution_count": null,
   "metadata": {},
   "outputs": [],
   "source": [
    "C=[1,1,1,1,1,1,1,1,1,1,1,1,1,1,1,1,21]\n",
    "\n",
    "rango_C=max(C)-min(C)\n",
    "print('La media de C es:',np.mean(C))\n",
    "print('El rango de C es:',rango_C)"
   ]
  },
  {
   "cell_type": "markdown",
   "metadata": {},
   "source": [
    "Vemos que tenemos una distribución con muy poca variabilidad, pero con un rango muy alto. Esto es debido a que solo considera dos valores de la distribución y no toda la distribución."
   ]
  },
  {
   "cell_type": "markdown",
   "metadata": {},
   "source": [
    "Si consideramos todos los valores podemos calcular:\n",
    "\n",
    "<img src=\"Figures/variabilities.svg\" alt=\"Drawing\" style=\"width: 450px;\"/>"
   ]
  },
  {
   "cell_type": "markdown",
   "metadata": {},
   "source": [
    "\n",
    "$$ Distancia Media = \\frac{1}{n} \\sum_i (x_i - \\mu) $$\n"
   ]
  },
  {
   "cell_type": "markdown",
   "metadata": {},
   "source": [
    "Para evitarlo, usaremos:\n",
    "\n",
    "$$ Varianza = \\frac{1}{n} \\sum_i (x_i - \\mu)^2 $$\n",
    "o también: $$ \\sigma^2 = \\frac{1}{n} \\sum_i (x_i - \\mu)^2 $$"
   ]
  },
  {
   "cell_type": "markdown",
   "metadata": {},
   "source": [
    "El problema de la varianza es que no da un valor que no nos ofrece ningún sentido."
   ]
  },
  {
   "cell_type": "code",
   "execution_count": null,
   "metadata": {},
   "outputs": [],
   "source": [
    "consumos_semana=[0,7,8]\n",
    "\n",
    "print('La varianza es de:', np.var(consumos_semana))"
   ]
  },
  {
   "cell_type": "markdown",
   "metadata": {},
   "source": [
    "Para esto se usa la **desviacón estándar**\n",
    "\n",
    "Desviación estándar $$ \\sigma = \\sqrt (\\frac{1}{n} \\sum_i (x_i - \\mu)^2) $$\n"
   ]
  },
  {
   "cell_type": "code",
   "execution_count": null,
   "metadata": {},
   "outputs": [],
   "source": [
    "consumos=[0,7,8]\n",
    "\n",
    "print('La desviación estandar es de:', np.std(consumos_semana))\n",
    "print('La media es de:', np.mean(consumos_semana))"
   ]
  },
  {
   "cell_type": "markdown",
   "metadata": {},
   "source": [
    "#### Ejercicio\n",
    "\n",
    "Obtener la Varianza, Desviación y Media para las tres distribuciones superiores. ¿Qué valores se obtienen?"
   ]
  },
  {
   "cell_type": "code",
   "execution_count": null,
   "metadata": {},
   "outputs": [],
   "source": [
    "# Resolver aquí"
   ]
  },
  {
   "cell_type": "code",
   "execution_count": null,
   "metadata": {},
   "outputs": [],
   "source": [
    "media = londres['energy_max'].mean()\n",
    "st_dev = londres['energy_max'].std()\n",
    "londres['energy_max'].plot.hist()\n",
    "plt.axvline(media, color = 'Black', label = 'Media')\n",
    "plt.axvline(media - st_dev, color = 'Red', label = 'Encima')\n",
    "plt.axvline(media + st_dev, color = 'Violet', label = 'Abajo')\n",
    "plt.legend()\n",
    "print(\"La desviación estandard es:\", st_dev)"
   ]
  },
  {
   "cell_type": "markdown",
   "metadata": {},
   "source": [
    "¿Qué ocurre cuando no podemos trabajar con los datos de toda una población y solo tenemos una muestra?\n",
    "\n",
    "Véamos qué pasa si cogemos varias muestras al azar de nuestra distribución de energía máxima:"
   ]
  },
  {
   "cell_type": "code",
   "execution_count": null,
   "metadata": {},
   "outputs": [],
   "source": [
    "from math import sqrt\n",
    "def standard_deviation(array):\n",
    "    reference_point = sum(array) / len(array)\n",
    "    \n",
    "    distances = []\n",
    "    for value in array:\n",
    "        squared_distance = (value - reference_point)**2\n",
    "        distances.append(squared_distance)\n",
    "    \n",
    "    variance = sum(distances) / len(distances)\n",
    "    \n",
    "    return sqrt(variance)\n",
    "\n",
    "std_lista=[]\n",
    "\n",
    "for i in range(3000):\n",
    "    sd=standard_deviation(londres['energy_max'].sample(20, random_state=i))\n",
    "    std_lista.append(sd)\n",
    "\n",
    "plt.hist(std_lista)\n",
    "std_lista = np.array(std_lista)\n",
    "plt.axvline(std_lista.std(), color='Black', label='Desviación con Muestra')\n",
    "plt.axvline(st_dev, color = 'Red', label = 'Desviación con Población')\n",
    "plt.legend()\n",
    "print(\"La desviación estandard es:\", std_lista.std())"
   ]
  },
  {
   "cell_type": "markdown",
   "metadata": {},
   "source": [
    "Se puede ver como, en general, las desviaciones estándar siempre son inferiores a la real.\n",
    "\n",
    "<img src=\"Figures/bessel1.svg\" alt=\"Drawing\" style=\"width: 600px;\"/>\n",
    "\n",
    "Conseguir muestras que tengas una varianza parecida es muy difícil.\n",
    "\n",
    "<img src=\"Figures/bessel2.svg\" alt=\"Drawing\" style=\"width: 300px;\"/>\n",
    "\n",
    "\n"
   ]
  },
  {
   "cell_type": "markdown",
   "metadata": {
    "scrolled": true,
    "slideshow": {
     "slide_type": "subslide"
    }
   },
   "source": [
    "### Tablas de frecuencia\n",
    "\n",
    "Una tabla de frecuencia nos permite saber cuántas veces aparece cada categoria en una variable. Por suerte Pandas ya nos ofrece herramientas para obtenerla rápidamente:"
   ]
  },
  {
   "cell_type": "code",
   "execution_count": null,
   "metadata": {
    "scrolled": true
   },
   "outputs": [],
   "source": [
    "frec_counts = londres['LCLid'].value_counts()\n",
    "frec_counts.head()"
   ]
  },
  {
   "cell_type": "markdown",
   "metadata": {},
   "source": [
    "¿En el caso de trabajar con una variable más continua qué pasaría?"
   ]
  },
  {
   "cell_type": "code",
   "execution_count": null,
   "metadata": {},
   "outputs": [],
   "source": [
    "frec_counts = londres['energy_max'].value_counts()\n",
    "frec_counts"
   ]
  },
  {
   "cell_type": "markdown",
   "metadata": {},
   "source": [
    "De repente, esta tabla no tiene mucho sentido ni mucha utilidad. Para esto podemos usar el código siguiente:"
   ]
  },
  {
   "cell_type": "code",
   "execution_count": null,
   "metadata": {},
   "outputs": [],
   "source": [
    "frec_counts = londres['energy_max'].value_counts(bins=5)\n",
    "frec_counts"
   ]
  },
  {
   "cell_type": "markdown",
   "metadata": {},
   "source": [
    "Para visualizar las tablas de frecuencia podemos usar Matplotlib como antes, o hacer los gráficos directamente desde pandas, que ya nos da esta posibilidad facilitando el trabajo.\n",
    "\n",
    "Así, en el primer caso, tendríamos:"
   ]
  },
  {
   "cell_type": "code",
   "execution_count": null,
   "metadata": {},
   "outputs": [],
   "source": [
    "londres['LCLid'].value_counts().plot.bar()"
   ]
  },
  {
   "cell_type": "markdown",
   "metadata": {},
   "source": [
    "Y en el segundo caso:"
   ]
  },
  {
   "cell_type": "code",
   "execution_count": null,
   "metadata": {},
   "outputs": [],
   "source": [
    "londres['energy_max'].value_counts(bins=5).plot.bar()"
   ]
  },
  {
   "cell_type": "markdown",
   "metadata": {},
   "source": [
    "### Comparar distribuciones de frecuencia\n",
    "\n",
    "La mejor manera de comparar y evaluar distintas distribuciones de frecuencia es visualizarlas. A continuación hay varios ejemplos:\n"
   ]
  },
  {
   "cell_type": "code",
   "execution_count": null,
   "metadata": {},
   "outputs": [],
   "source": [
    "import warnings\n",
    "warnings.filterwarnings('ignore')\n",
    "\n",
    "londres['energy_max'].plot.kde()\n",
    "londres['energy_min'].plot.kde()\n",
    "plt.legend()"
   ]
  },
  {
   "cell_type": "code",
   "execution_count": null,
   "metadata": {},
   "outputs": [],
   "source": [
    "import seaborn as sns\n",
    "\n",
    "londres['energy_max'].hist(histtype='stepfilled', label='Energy Max')\n",
    "londres['energy_min'].hist(histtype='stepfilled', color=sns.desaturate(\"indianred\", .75), label='Energy Min')\n",
    "plt.legend()"
   ]
  },
  {
   "cell_type": "markdown",
   "metadata": {},
   "source": [
    "#### Ejercicio\n",
    "\n",
    "Hacer dos boxplots comparando la energia màxima entre dos contadores con LCLid distintos del dataset *londres* cargado."
   ]
  },
  {
   "cell_type": "code",
   "execution_count": null,
   "metadata": {},
   "outputs": [],
   "source": [
    "# Vuestro Codigo!\n",
    "\n",
    "# Vuestro Codigo!\n",
    "MAC113 = londres.loc[londres['LCLid']=='MAC000113', 'energy_max']\n",
    "MAC5270 = londres.loc[londres['LCLid']=='MAC005270', 'energy_max']\n",
    "data = [MAC113, MAC5270]\n",
    "\n",
    "fig = plt.figure(figsize =(10, 7))\n",
    "# Creating axes instance\n",
    "ax = fig.add_axes([0, 0, 1, 1])\n",
    "# Creating plot\n",
    "bp = ax.boxplot(data)\n",
    "# show plot\n",
    "plt.show()"
   ]
  },
  {
   "cell_type": "markdown",
   "metadata": {},
   "source": [
    "**Ejercicio**\n",
    "\n",
    "Inspeccionar la carpeta Data de este repositorio y abrir el archivo con los consumos de electricidad de la zona west-land infra en 2019 en un dataset llamado *netherlands* e inspeccionar las primeras filas\n",
    "\n"
   ]
  },
  {
   "cell_type": "code",
   "execution_count": null,
   "metadata": {
    "scrolled": false
   },
   "outputs": [],
   "source": [
    "import pandas as pd\n",
    "import numpy as np\n",
    "\n",
    "netherlands.head()"
   ]
  },
  {
   "cell_type": "markdown",
   "metadata": {},
   "source": [
    "**Ejercicios** \n",
    "\n",
    "+ ¿Hay missing values? ¿Dónde?\n",
    "+ ¿Cuántos tipos de conexión hay?\n",
    "+ ¿Cuántos pueblos hay en total?\n",
    "+ ¿Qué pueblo tiene más número de conexiones?\n",
    "+ ¿En cuántos casos el zipcode_from es igual al zipcode_to?"
   ]
  },
  {
   "cell_type": "code",
   "execution_count": null,
   "metadata": {},
   "outputs": [],
   "source": [
    "#Respuesta:\n"
   ]
  },
  {
   "cell_type": "markdown",
   "metadata": {},
   "source": [
    "### Asimetría\n",
    "\n",
    "En una distribución, también podremos medir la asimetría o el *skewness*:\n",
    "\n",
    "$$ g_1 = \\frac{\\frac{1}{n} \\sum_i (x_i - \\mu)^2 }{\\frac{1}{n} \\sum_i (x_i - \\mu)^3 }$$\n",
    "\n",
    "Otra fórmula que da buenos resultados es *Pearson's median skewness coefficient*:\n",
    "\n",
    "$$ g_p = \\frac{3(\\mu - \\mu_{\\frac{1}{2}})}{\\sigma} $$\n",
    "\n",
    "El skewess muestra:\n",
    "+ Si es negativo es que se extiende más a la izquierda que a la derecha.\n",
    "+ Si es positivo es que se extiende más a la derecha que a la izquierda.\n",
    "\n",
    "En Pandas:"
   ]
  },
  {
   "cell_type": "code",
   "execution_count": null,
   "metadata": {},
   "outputs": [],
   "source": [
    "londres['energy_max'].plot.kde()\n",
    "londres['energy_max'].skew()"
   ]
  }
 ],
 "metadata": {
  "kernelspec": {
   "display_name": "Python 3",
   "language": "python",
   "name": "python3"
  },
  "language_info": {
   "codemirror_mode": {
    "name": "ipython",
    "version": 3
   },
   "file_extension": ".py",
   "mimetype": "text/x-python",
   "name": "python",
   "nbconvert_exporter": "python",
   "pygments_lexer": "ipython3",
   "version": "3.7.4"
  },
  "widgets": {
   "state": {},
   "version": "1.1.1"
  }
 },
 "nbformat": 4,
 "nbformat_minor": 1
}

{
 "cells": [
  {
   "cell_type": "markdown",
   "metadata": {},
   "source": [
    "<img src=\"Figures/top_ML.png\" alt=\"Drawing\" style=\"width: 1000px;\"/>"
   ]
  },
  {
   "cell_type": "markdown",
   "metadata": {
    "slideshow": {
     "slide_type": "slide"
    }
   },
   "source": [
    "# Estadística "
   ]
  },
  {
   "cell_type": "markdown",
   "metadata": {},
   "source": [
    "### CONTENIDOS\n",
    "\n",
    "* Muestra vs Población\n",
    "* Resumen y limpieza de datos\n",
    "* Estadística descriptiva\n",
    "* Probabilidad"
   ]
  },
  {
   "cell_type": "markdown",
   "metadata": {},
   "source": [
    "## 1. Muestra vs. Población\n",
    "\n",
    "Siempre que se pueda, será mejor usar la población para responder a nuestras preguntas, pero a veces esto no es posible (no se tienen todos los datos, no todos los clientes tienen un Smart meter, recopilar todos los datos en una misma fuente es difícil, etc). En estos casos usaremos una muestra. \n",
    "\n",
    "¿Qué problema conlleva esto? Veamos un ejemplo, con nuestro dataset de Londres"
   ]
  },
  {
   "cell_type": "code",
   "execution_count": 2,
   "metadata": {},
   "outputs": [
    {
     "data": {
      "text/html": [
       "<div>\n",
       "<style scoped>\n",
       "    .dataframe tbody tr th:only-of-type {\n",
       "        vertical-align: middle;\n",
       "    }\n",
       "\n",
       "    .dataframe tbody tr th {\n",
       "        vertical-align: top;\n",
       "    }\n",
       "\n",
       "    .dataframe thead th {\n",
       "        text-align: right;\n",
       "    }\n",
       "</style>\n",
       "<table border=\"1\" class=\"dataframe\">\n",
       "  <thead>\n",
       "    <tr style=\"text-align: right;\">\n",
       "      <th></th>\n",
       "      <th>LCLid</th>\n",
       "      <th>day</th>\n",
       "      <th>energy_median</th>\n",
       "      <th>energy_mean</th>\n",
       "      <th>energy_max</th>\n",
       "      <th>energy_count</th>\n",
       "      <th>energy_std</th>\n",
       "      <th>energy_sum</th>\n",
       "      <th>energy_min</th>\n",
       "    </tr>\n",
       "  </thead>\n",
       "  <tbody>\n",
       "    <tr>\n",
       "      <th>0</th>\n",
       "      <td>MAC000113</td>\n",
       "      <td>2011-12-14</td>\n",
       "      <td>1.0910</td>\n",
       "      <td>1.065250</td>\n",
       "      <td>1.674</td>\n",
       "      <td>28</td>\n",
       "      <td>0.305397</td>\n",
       "      <td>29.827</td>\n",
       "      <td>0.262</td>\n",
       "    </tr>\n",
       "    <tr>\n",
       "      <th>1</th>\n",
       "      <td>MAC000113</td>\n",
       "      <td>2011-12-15</td>\n",
       "      <td>0.3710</td>\n",
       "      <td>0.546521</td>\n",
       "      <td>1.434</td>\n",
       "      <td>48</td>\n",
       "      <td>0.410120</td>\n",
       "      <td>26.233</td>\n",
       "      <td>0.119</td>\n",
       "    </tr>\n",
       "    <tr>\n",
       "      <th>2</th>\n",
       "      <td>MAC000113</td>\n",
       "      <td>2011-12-16</td>\n",
       "      <td>0.3205</td>\n",
       "      <td>0.534708</td>\n",
       "      <td>2.034</td>\n",
       "      <td>48</td>\n",
       "      <td>0.464431</td>\n",
       "      <td>25.666</td>\n",
       "      <td>0.129</td>\n",
       "    </tr>\n",
       "    <tr>\n",
       "      <th>3</th>\n",
       "      <td>MAC000113</td>\n",
       "      <td>2011-12-17</td>\n",
       "      <td>0.2570</td>\n",
       "      <td>0.421500</td>\n",
       "      <td>1.068</td>\n",
       "      <td>48</td>\n",
       "      <td>0.274387</td>\n",
       "      <td>20.232</td>\n",
       "      <td>0.115</td>\n",
       "    </tr>\n",
       "    <tr>\n",
       "      <th>4</th>\n",
       "      <td>MAC000113</td>\n",
       "      <td>2011-12-18</td>\n",
       "      <td>0.3985</td>\n",
       "      <td>0.565333</td>\n",
       "      <td>2.218</td>\n",
       "      <td>48</td>\n",
       "      <td>0.450712</td>\n",
       "      <td>27.136</td>\n",
       "      <td>0.134</td>\n",
       "    </tr>\n",
       "    <tr>\n",
       "      <th>5</th>\n",
       "      <td>MAC000113</td>\n",
       "      <td>2011-12-19</td>\n",
       "      <td>0.6980</td>\n",
       "      <td>0.746479</td>\n",
       "      <td>2.204</td>\n",
       "      <td>48</td>\n",
       "      <td>0.488694</td>\n",
       "      <td>35.831</td>\n",
       "      <td>0.131</td>\n",
       "    </tr>\n",
       "    <tr>\n",
       "      <th>6</th>\n",
       "      <td>MAC000113</td>\n",
       "      <td>2011-12-20</td>\n",
       "      <td>0.2485</td>\n",
       "      <td>0.436354</td>\n",
       "      <td>1.551</td>\n",
       "      <td>48</td>\n",
       "      <td>0.362781</td>\n",
       "      <td>20.945</td>\n",
       "      <td>0.139</td>\n",
       "    </tr>\n",
       "    <tr>\n",
       "      <th>7</th>\n",
       "      <td>MAC000113</td>\n",
       "      <td>2011-12-21</td>\n",
       "      <td>0.2050</td>\n",
       "      <td>0.426542</td>\n",
       "      <td>1.818</td>\n",
       "      <td>48</td>\n",
       "      <td>0.477511</td>\n",
       "      <td>20.474</td>\n",
       "      <td>0.119</td>\n",
       "    </tr>\n",
       "    <tr>\n",
       "      <th>8</th>\n",
       "      <td>MAC000113</td>\n",
       "      <td>2011-12-22</td>\n",
       "      <td>0.1830</td>\n",
       "      <td>0.181854</td>\n",
       "      <td>0.259</td>\n",
       "      <td>48</td>\n",
       "      <td>0.040321</td>\n",
       "      <td>8.729</td>\n",
       "      <td>0.119</td>\n",
       "    </tr>\n",
       "    <tr>\n",
       "      <th>9</th>\n",
       "      <td>MAC000113</td>\n",
       "      <td>2011-12-23</td>\n",
       "      <td>0.1860</td>\n",
       "      <td>0.185646</td>\n",
       "      <td>0.268</td>\n",
       "      <td>48</td>\n",
       "      <td>0.040754</td>\n",
       "      <td>8.911</td>\n",
       "      <td>0.121</td>\n",
       "    </tr>\n",
       "  </tbody>\n",
       "</table>\n",
       "</div>"
      ],
      "text/plain": [
       "       LCLid         day  energy_median  energy_mean  energy_max  \\\n",
       "0  MAC000113  2011-12-14         1.0910     1.065250       1.674   \n",
       "1  MAC000113  2011-12-15         0.3710     0.546521       1.434   \n",
       "2  MAC000113  2011-12-16         0.3205     0.534708       2.034   \n",
       "3  MAC000113  2011-12-17         0.2570     0.421500       1.068   \n",
       "4  MAC000113  2011-12-18         0.3985     0.565333       2.218   \n",
       "5  MAC000113  2011-12-19         0.6980     0.746479       2.204   \n",
       "6  MAC000113  2011-12-20         0.2485     0.436354       1.551   \n",
       "7  MAC000113  2011-12-21         0.2050     0.426542       1.818   \n",
       "8  MAC000113  2011-12-22         0.1830     0.181854       0.259   \n",
       "9  MAC000113  2011-12-23         0.1860     0.185646       0.268   \n",
       "\n",
       "   energy_count  energy_std  energy_sum  energy_min  \n",
       "0            28    0.305397      29.827       0.262  \n",
       "1            48    0.410120      26.233       0.119  \n",
       "2            48    0.464431      25.666       0.129  \n",
       "3            48    0.274387      20.232       0.115  \n",
       "4            48    0.450712      27.136       0.134  \n",
       "5            48    0.488694      35.831       0.131  \n",
       "6            48    0.362781      20.945       0.139  \n",
       "7            48    0.477511      20.474       0.119  \n",
       "8            48    0.040321       8.729       0.119  \n",
       "9            48    0.040754       8.911       0.121  "
      ]
     },
     "execution_count": 2,
     "metadata": {},
     "output_type": "execute_result"
    }
   ],
   "source": [
    "import pandas as pd #importamos Pandas!\n",
    "londres = pd.read_csv('Data/block_13_diario.csv')\n",
    "londres.head(10)"
   ]
  },
  {
   "cell_type": "code",
   "execution_count": 11,
   "metadata": {},
   "outputs": [],
   "source": [
    "Muestra1 = londres.iloc[1:50,4]\n",
    "Muestra2 = londres.iloc[1345:18540,4]"
   ]
  },
  {
   "cell_type": "code",
   "execution_count": 12,
   "metadata": {},
   "outputs": [
    {
     "data": {
      "text/plain": [
       "count    49.000000\n",
       "mean      1.456020\n",
       "std       0.632673\n",
       "min       0.259000\n",
       "25%       1.128000\n",
       "50%       1.570000\n",
       "75%       1.922000\n",
       "max       2.653000\n",
       "Name: energy_max, dtype: float64"
      ]
     },
     "execution_count": 12,
     "metadata": {},
     "output_type": "execute_result"
    }
   ],
   "source": [
    "Muestra1.describe()"
   ]
  },
  {
   "cell_type": "code",
   "execution_count": 13,
   "metadata": {},
   "outputs": [
    {
     "data": {
      "text/plain": [
       "count    17195.000000\n",
       "mean         0.953127\n",
       "std          0.749204\n",
       "min          0.000000\n",
       "25%          0.368000\n",
       "50%          0.813000\n",
       "75%          1.359000\n",
       "max          6.897000\n",
       "Name: energy_max, dtype: float64"
      ]
     },
     "execution_count": 13,
     "metadata": {},
     "output_type": "execute_result"
    }
   ],
   "source": [
    "Muestra2.describe()"
   ]
  },
  {
   "cell_type": "markdown",
   "metadata": {},
   "source": [
    "Como se puede observar para cada muestra obtenemos métricas o estadísticas distintas. Este error, es el *error de estimación* o el *error muestral* \n",
    "\n",
    "<h4><center>error de estimación = parámetro - estadística</center></h4>\n",
    "\n"
   ]
  },
  {
   "cell_type": "code",
   "execution_count": 17,
   "metadata": {},
   "outputs": [
    {
     "name": "stdout",
     "output_type": "stream",
     "text": [
      "Error muestra 1: -0.5764242637403644\n",
      "Error muestra 2: -0.0735312760830581\n",
      "0.8795961444229009\n"
     ]
    }
   ],
   "source": [
    "Mean_pob=londres['energy_max'].mean()\n",
    "error1=Mean_pob-Muestra1.mean()\n",
    "error2=Mean_pob-Muestra2.mean()\n",
    "print('Error muestra 1:',error1)\n",
    "print('Error muestra 2:',error2)\n",
    "print(Mean_pob)"
   ]
  },
  {
   "cell_type": "markdown",
   "metadata": {},
   "source": [
    "Si lo hacemos para varias muestras, con el mismo número de observaciones de manera aleatória, de manera automática:"
   ]
  },
  {
   "cell_type": "code",
   "execution_count": 16,
   "metadata": {},
   "outputs": [
    {
     "data": {
      "image/png": "[encoded data removed]",
      "text/plain": [
       "<Figure size 432x288 with 1 Axes>"
      ]
     },
     "metadata": {
      "needs_background": "light"
     },
     "output_type": "display_data"
    }
   ],
   "source": [
    "import matplotlib.pyplot as plt\n",
    "\n",
    "num_observaciones = 50\n",
    "num_muestras = 100\n",
    "lista_mean=[]\n",
    "for muestra in range(num_muestras):\n",
    "    s=londres['energy_max'].sample(num_observaciones,random_state = muestra)\n",
    "    lista_mean.append(s.mean())\n",
    "    \n",
    "plt.scatter(range(1,101),lista_mean)\n",
    "plt.axhline(londres['energy_max'].mean())\n",
    "plt.xlabel('Num de muestra')\n",
    "plt.ylabel('Media aritmética')\n",
    "plt.show()"
   ]
  },
  {
   "cell_type": "markdown",
   "metadata": {},
   "source": [
    "¿Cómo podemos disminuir o solucionar esto? \n",
    "\n",
    "Una manera es, como se ha dicho, intentar acercarnos el máximo a toda la población. Veamos en nuestro ejemplo:"
   ]
  },
  {
   "cell_type": "code",
   "execution_count": 18,
   "metadata": {},
   "outputs": [
    {
     "data": {
      "image/png": "[encoded data removed]",
      "text/plain": [
       "<Figure size 1080x576 with 4 Axes>"
      ]
     },
     "metadata": {
      "needs_background": "light"
     },
     "output_type": "display_data"
    }
   ],
   "source": [
    "num_observaciones = 50\n",
    "num_muestras = 100\n",
    "listas_mean=[]\n",
    "for num_observaciones in [50,250,500,1000]:\n",
    "    lista_mean=[]\n",
    "    for muestra in range(num_muestras):\n",
    "        s=londres['energy_max'].sample(num_observaciones,random_state = muestra)\n",
    "        lista_mean.append(s.mean())\n",
    "    listas_mean.append(lista_mean)\n",
    "    \n",
    "plt.figure(figsize=(15,8))\n",
    "\n",
    "plt.subplot(2,2,1)\n",
    "plt.scatter(range(1,101),listas_mean[0])\n",
    "plt.axhline(londres['energy_max'].mean())\n",
    "plt.ylim(0.6, 1.1)\n",
    "plt.ylabel('Media aritmética')\n",
    "plt.title('50 observaciones')\n",
    "\n",
    "plt.subplot(2,2,2)\n",
    "plt.scatter(range(1,101),listas_mean[1])\n",
    "plt.axhline(londres['energy_max'].mean())\n",
    "plt.ylim(0.6, 1.1)\n",
    "plt.ylabel('Media aritmética')\n",
    "plt.title('250 observaciones')\n",
    "\n",
    "plt.subplot(2,2,3)\n",
    "plt.scatter(range(1,101),listas_mean[2])\n",
    "plt.axhline(londres['energy_max'].mean())\n",
    "plt.ylim(0.6, 1.1)\n",
    "plt.ylabel('Media aritmética')\n",
    "plt.title('500 observaciones')\n",
    "\n",
    "plt.subplot(2,2,4)\n",
    "plt.scatter(range(1,101),listas_mean[3])\n",
    "plt.axhline(londres['energy_max'].mean())\n",
    "plt.ylim(0.6, 1.1)\n",
    "plt.ylabel('Media aritmética')\n",
    "plt.title('1000 observaciones')\n",
    "\n",
    "plt.show()"
   ]
  },
  {
   "cell_type": "markdown",
   "metadata": {},
   "source": [
    "También debemos asegurar que la muestra sea representativa de las diferentes posbles categorias que haya en nuestro dataset. Para eso se puede usar *stratified sampling* o muestreo estratigicado. \n",
    "\n",
    "En el muestreo estratificado, se dividen a los sujetos en subgrupos denominados estratos en función de las características que comparten (por ejemplo, raza, sexo, nivel de estudios). Una vez divididos, cada subgrupo se muestrea aleatoriamente utilizando otro método de muestreo probabilístico.\n",
    "\n",
    "\n",
    "<img src=\"Figures/stratified_sampling.jpg\" alt=\"Drawing\" style=\"width: 450px;\"/>"
   ]
  },
  {
   "cell_type": "markdown",
   "metadata": {},
   "source": [
    "## 2. Limpieza y resumen de datos\n",
    "\n",
    "Pandas nos ofrece varias opciones para obtener un resumen de los datos como el método *describe* visto anteriormente. Además, podemos usar otros métodos como:\n",
    "\n",
    "<img src=\"Figures/pandas_summary.png\" alt=\"Drawing\" style=\"width: 450px;\"/>\n",
    "\n",
    "También son interesantes los métodos *value_counts* i *nunique*"
   ]
  },
  {
   "cell_type": "code",
   "execution_count": 19,
   "metadata": {},
   "outputs": [
    {
     "data": {
      "text/plain": [
       "1.068"
      ]
     },
     "execution_count": 19,
     "metadata": {},
     "output_type": "execute_result"
    }
   ],
   "source": [
    "londres_raw = pd.read_csv('Data/block_13_diario_raw.csv')\n",
    "\n",
    "londres_raw['energy_min'].max()"
   ]
  },
  {
   "cell_type": "code",
   "execution_count": 20,
   "metadata": {},
   "outputs": [
    {
     "data": {
      "text/plain": [
       "0.18086813427485007"
      ]
     },
     "execution_count": 20,
     "metadata": {},
     "output_type": "execute_result"
    }
   ],
   "source": [
    "# Ejercicio\n",
    "# Calcular la std de la energía mediana del contador MAC000113. R= 0.180486\n",
    "londres_raw[londres_raw['LCLid']=='MAC000113']['energy_median'].std()"
   ]
  },
  {
   "cell_type": "markdown",
   "metadata": {},
   "source": [
    "Como ya se ha visto, hay varias opciones para tratar con valores vacíos, pero pandas nos ofrece algunas opciones rápidas e interesantes para ir rápido\n",
    "\n",
    "<img src=\"Figures/missing.png\" alt=\"Drawing\" style=\"width: 450px;\"/>"
   ]
  },
  {
   "cell_type": "markdown",
   "metadata": {},
   "source": [
    "**Análisis Exploratorio de Datos - Ejemplo**"
   ]
  },
  {
   "cell_type": "markdown",
   "metadata": {},
   "source": [
    "Primero, identificamos los tipos de valores que hay en cada columna. Esto es necesario ya que, como veremos más adelante, columnas numéricas y no numéricas se tratan usando métodos distintos."
   ]
  },
  {
   "cell_type": "code",
   "execution_count": 21,
   "metadata": {},
   "outputs": [
    {
     "data": {
      "text/plain": [
       "LCLid             object\n",
       "day               object\n",
       "energy_median    float64\n",
       "energy_mean      float64\n",
       "energy_max       float64\n",
       "energy_count     float64\n",
       "energy_std       float64\n",
       "energy_sum       float64\n",
       "energy_min       float64\n",
       "dtype: object"
      ]
     },
     "execution_count": 21,
     "metadata": {},
     "output_type": "execute_result"
    }
   ],
   "source": [
    "londres_raw.dtypes"
   ]
  },
  {
   "cell_type": "markdown",
   "metadata": {},
   "source": [
    "Para ver si hay valores nulos, se puede usar el método .isna(), que devuelve convierte cada casilla en True (si es un NaN) o False (si no lo es), junto con el método .sum() para obtener el número total de NaNs por columna."
   ]
  },
  {
   "cell_type": "code",
   "execution_count": 23,
   "metadata": {},
   "outputs": [
    {
     "data": {
      "text/plain": [
       "LCLid              1\n",
       "day                0\n",
       "energy_median     11\n",
       "energy_mean        7\n",
       "energy_max         2\n",
       "energy_count       2\n",
       "energy_std       127\n",
       "energy_sum         3\n",
       "energy_min         3\n",
       "dtype: int64"
      ]
     },
     "execution_count": 23,
     "metadata": {},
     "output_type": "execute_result"
    }
   ],
   "source": [
    "londres_raw.isna().sum()"
   ]
  },
  {
   "cell_type": "markdown",
   "metadata": {},
   "source": [
    "### Ejemplos\n",
    "Vamos a tratar los NA de las distintas columnas con métodos diferentes:\n",
    "* LCLid, energy_std: Copiaremos el valor de arriba.\n",
    "* energy_median, energy_mean: Copiar el valor de abajo\n",
    "* energy_count: Fijaremos el valor \"48\".\n",
    "* energy_sum: Interpolación con method='linear'.\n",
    "* energy_max: Mean de energy_max.\n",
    "* energy_min: Mediana de energy_min."
   ]
  },
  {
   "cell_type": "code",
   "execution_count": 32,
   "metadata": {},
   "outputs": [
    {
     "data": {
      "text/plain": [
       "LCLid            0\n",
       "day              0\n",
       "energy_median    0\n",
       "energy_mean      0\n",
       "energy_max       0\n",
       "energy_count     0\n",
       "energy_std       0\n",
       "energy_sum       0\n",
       "energy_min       0\n",
       "dtype: int64"
      ]
     },
     "execution_count": 32,
     "metadata": {},
     "output_type": "execute_result"
    }
   ],
   "source": [
    "# Ejemplo: LCLid\n",
    "londres_raw['LCLid'].fillna(method='ffill', inplace=True)\n",
    "# Ejercicio: energy_std\n",
    "londres_raw['energy_std'].fillna(method='ffill', inplace=True)\n",
    "\n",
    "# Ejemplo: energy_count\n",
    "londres_raw['energy_count'].fillna(48, inplace=True)\n",
    "\n",
    "\n",
    "\n",
    "# Ejemplo: energy_median\n",
    "londres_raw['energy_median'].fillna(method='bfill', inplace=True)\n",
    "# Ejercicio: energy_mean\n",
    "londres_raw['energy_mean'].fillna(method='bfill', inplace=True)\n",
    "\n",
    "\n",
    "# Ejemplo: energy_sum\n",
    "londres_raw['energy_sum'].interpolate(method='linear', inplace=True)\n",
    "\n",
    "\n",
    "# Ejemplo: energy_max\n",
    "londres_raw['energy_max'].fillna(londres['energy_max'].mean(), inplace=True)\n",
    "# Ejercicio: energy_min\n",
    "londres_raw['energy_min'].fillna(londres['energy_min'].median(), inplace=True)\n",
    "\n",
    "londres_raw.isna().sum()"
   ]
  },
  {
   "cell_type": "markdown",
   "metadata": {},
   "source": [
    "## 3. Estadística descriptiva"
   ]
  },
  {
   "cell_type": "markdown",
   "metadata": {},
   "source": [
    "### Media, mediana y moda"
   ]
  },
  {
   "cell_type": "markdown",
   "metadata": {},
   "source": [
    "#### Media\n",
    "\n",
    "Podemos pensar que la media es el centro de gravedad de los datos de una distribución. Veamos un ejemplo y discutamos qué información se puede obtener y como nos puede ayudar o, al revés, desinformar si no se va con cuidado."
   ]
  },
  {
   "cell_type": "code",
   "execution_count": 33,
   "metadata": {},
   "outputs": [
    {
     "name": "stdout",
     "output_type": "stream",
     "text": [
      "Media poblacion: 4.0\n",
      "Media muestra: 3.25\n",
      "[3, 3, 3, 4]\n"
     ]
    }
   ],
   "source": [
    "import random\n",
    "import numpy as np\n",
    "\n",
    "poblacion = [0,2,3,3,3,4,13]\n",
    "muestra = random.choices(poblacion, k=4) #Seleccionar aleatoriamente 4 valores de la población\n",
    "\n",
    "poblacion_media = np.mean(poblacion)\n",
    "muestra_media = np.mean(muestra)\n",
    "\n",
    "print('Media poblacion:', poblacion_media)\n",
    "print('Media muestra:', muestra_media)\n",
    "print(muestra)"
   ]
  },
  {
   "cell_type": "markdown",
   "metadata": {},
   "source": [
    "#### Media Ponderada y Mediana\n",
    "\n",
    "Observemos el dataset *netherlands*"
   ]
  },
  {
   "cell_type": "code",
   "execution_count": 34,
   "metadata": {},
   "outputs": [
    {
     "data": {
      "text/html": [
       "<div>\n",
       "<style scoped>\n",
       "    .dataframe tbody tr th:only-of-type {\n",
       "        vertical-align: middle;\n",
       "    }\n",
       "\n",
       "    .dataframe tbody tr th {\n",
       "        vertical-align: top;\n",
       "    }\n",
       "\n",
       "    .dataframe thead th {\n",
       "        text-align: right;\n",
       "    }\n",
       "</style>\n",
       "<table border=\"1\" class=\"dataframe\">\n",
       "  <thead>\n",
       "    <tr style=\"text-align: right;\">\n",
       "      <th></th>\n",
       "      <th>net_manager</th>\n",
       "      <th>purchase_area</th>\n",
       "      <th>street</th>\n",
       "      <th>zipcode_from</th>\n",
       "      <th>zipcode_to</th>\n",
       "      <th>city</th>\n",
       "      <th>num_connections</th>\n",
       "      <th>delivery_perc</th>\n",
       "      <th>perc_of_active_connections</th>\n",
       "      <th>type_conn_perc</th>\n",
       "      <th>type_of_connection</th>\n",
       "      <th>annual_consume</th>\n",
       "      <th>annual_consume_lowtarif_perc</th>\n",
       "      <th>smartmeter_perc</th>\n",
       "    </tr>\n",
       "  </thead>\n",
       "  <tbody>\n",
       "    <tr>\n",
       "      <th>0</th>\n",
       "      <td>Cogas Infra &amp; Beheer BV</td>\n",
       "      <td>Netbeheerder Centraal Overijssel B.V.</td>\n",
       "      <td>Dorpsstraat</td>\n",
       "      <td>7468CP</td>\n",
       "      <td>7471AA</td>\n",
       "      <td>ENTER</td>\n",
       "      <td>19</td>\n",
       "      <td>89.47</td>\n",
       "      <td>94.74</td>\n",
       "      <td>89</td>\n",
       "      <td>1x35</td>\n",
       "      <td>4037</td>\n",
       "      <td>89.47</td>\n",
       "      <td>0.0</td>\n",
       "    </tr>\n",
       "    <tr>\n",
       "      <th>1</th>\n",
       "      <td>Cogas Infra &amp; Beheer BV</td>\n",
       "      <td>Netbeheerder Centraal Overijssel B.V.</td>\n",
       "      <td>De Stoevelaar</td>\n",
       "      <td>7471AB</td>\n",
       "      <td>7471AB</td>\n",
       "      <td>GOOR</td>\n",
       "      <td>40</td>\n",
       "      <td>100.00</td>\n",
       "      <td>97.50</td>\n",
       "      <td>80</td>\n",
       "      <td>1x35</td>\n",
       "      <td>2642</td>\n",
       "      <td>95.00</td>\n",
       "      <td>0.0</td>\n",
       "    </tr>\n",
       "    <tr>\n",
       "      <th>2</th>\n",
       "      <td>Cogas Infra &amp; Beheer BV</td>\n",
       "      <td>Netbeheerder Centraal Overijssel B.V.</td>\n",
       "      <td>De Stoevelaar</td>\n",
       "      <td>7471AC</td>\n",
       "      <td>7471AC</td>\n",
       "      <td>GOOR</td>\n",
       "      <td>16</td>\n",
       "      <td>100.00</td>\n",
       "      <td>100.00</td>\n",
       "      <td>100</td>\n",
       "      <td>1x35</td>\n",
       "      <td>1313</td>\n",
       "      <td>100.00</td>\n",
       "      <td>0.0</td>\n",
       "    </tr>\n",
       "  </tbody>\n",
       "</table>\n",
       "</div>"
      ],
      "text/plain": [
       "               net_manager                          purchase_area  \\\n",
       "0  Cogas Infra & Beheer BV  Netbeheerder Centraal Overijssel B.V.   \n",
       "1  Cogas Infra & Beheer BV  Netbeheerder Centraal Overijssel B.V.   \n",
       "2  Cogas Infra & Beheer BV  Netbeheerder Centraal Overijssel B.V.   \n",
       "\n",
       "          street zipcode_from zipcode_to   city  num_connections  \\\n",
       "0    Dorpsstraat       7468CP     7471AA  ENTER               19   \n",
       "1  De Stoevelaar       7471AB     7471AB   GOOR               40   \n",
       "2  De Stoevelaar       7471AC     7471AC   GOOR               16   \n",
       "\n",
       "   delivery_perc  perc_of_active_connections  type_conn_perc  \\\n",
       "0          89.47                       94.74              89   \n",
       "1         100.00                       97.50              80   \n",
       "2         100.00                      100.00             100   \n",
       "\n",
       "  type_of_connection  annual_consume  annual_consume_lowtarif_perc  \\\n",
       "0               1x35            4037                         89.47   \n",
       "1               1x35            2642                         95.00   \n",
       "2               1x35            1313                        100.00   \n",
       "\n",
       "   smartmeter_perc  \n",
       "0              0.0  \n",
       "1              0.0  \n",
       "2              0.0  "
      ]
     },
     "execution_count": 34,
     "metadata": {},
     "output_type": "execute_result"
    }
   ],
   "source": [
    "netherlands = pd.read_csv('Data/Electricity_Netherlands/coteq_electricity_2019.csv')\n",
    "netherlands.dropna()\n",
    "netherlands.head(3)"
   ]
  },
  {
   "cell_type": "markdown",
   "metadata": {},
   "source": [
    "Si se quiere obtener la media del consumo de todo el dataset, se podría calcular como:"
   ]
  },
  {
   "cell_type": "code",
   "execution_count": 35,
   "metadata": {},
   "outputs": [
    {
     "data": {
      "text/plain": [
       "annual_consume    3971.755365\n",
       "dtype: float64"
      ]
     },
     "execution_count": 35,
     "metadata": {},
     "output_type": "execute_result"
    }
   ],
   "source": [
    "netherlands[['annual_consume']].mean()"
   ]
  },
  {
   "cell_type": "markdown",
   "metadata": {},
   "source": [
    "Pero si observamos bien el *dataset* podemos ver que esta media no es justa. ¿Por qué?"
   ]
  },
  {
   "cell_type": "code",
   "execution_count": 36,
   "metadata": {},
   "outputs": [
    {
     "data": {
      "text/plain": [
       "3981.6492243827834"
      ]
     },
     "execution_count": 36,
     "metadata": {},
     "output_type": "execute_result"
    }
   ],
   "source": [
    "def weighted(values, weights):\n",
    "    return sum([a*b for a,b in zip(values, weights)])/sum(weights)\n",
    "\n",
    "weighted(netherlands['annual_consume'], netherlands['num_connections'])"
   ]
  },
  {
   "cell_type": "markdown",
   "metadata": {},
   "source": [
    "Hemos visto como hay veces que computar la media, auque se pueda hacer, no sería correcto. En otras ocasiones, lo que nos pasará es que directamente no podemos calcular la media. Por ejemplo"
   ]
  },
  {
   "cell_type": "code",
   "execution_count": 37,
   "metadata": {},
   "outputs": [],
   "source": [
    "Edad_clientes = [34,23,54,23,'más de 80',76,34,43,65,57,'más de 80',43,39,49]"
   ]
  },
  {
   "cell_type": "markdown",
   "metadata": {},
   "source": [
    "En este caso, la **mediana** puede ser una buena medida alternativa."
   ]
  },
  {
   "cell_type": "markdown",
   "metadata": {},
   "source": [
    "Otra ventaja de la mediana es que no considera de manera equitativa todos los elementos de la distribución, lo que la hace más resistente a cambios en la distribución."
   ]
  },
  {
   "cell_type": "markdown",
   "metadata": {},
   "source": [
    "#### Moda\n",
    "\n",
    "Hemos visto que en ocasiones la media no nos dará la información buscada, o simplemente no se podrá calcular y usaremos la mediana. En otras ocasiones, pero, la moda también nos puede ser de utilidad. Por ejemplo:"
   ]
  },
  {
   "cell_type": "code",
   "execution_count": 38,
   "metadata": {},
   "outputs": [
    {
     "data": {
      "text/plain": [
       "0    ENTER\n",
       "1     GOOR\n",
       "2     GOOR\n",
       "3     GOOR\n",
       "4     GOOR\n",
       "Name: city, dtype: object"
      ]
     },
     "execution_count": 38,
     "metadata": {},
     "output_type": "execute_result"
    }
   ],
   "source": [
    "netherlands['city'].head(5)"
   ]
  },
  {
   "cell_type": "code",
   "execution_count": 39,
   "metadata": {},
   "outputs": [
    {
     "data": {
      "text/plain": [
       "ALMELO       1577\n",
       "OLDENZAAL     714\n",
       "GOOR          271\n",
       "ENTER           1\n",
       "Name: city, dtype: int64"
      ]
     },
     "execution_count": 39,
     "metadata": {},
     "output_type": "execute_result"
    }
   ],
   "source": [
    "netherlands['city'].value_counts()"
   ]
  },
  {
   "cell_type": "markdown",
   "metadata": {},
   "source": [
    "### Variabilidad\n",
    "\n",
    "Veamos dos distribuciones:"
   ]
  },
  {
   "cell_type": "code",
   "execution_count": 40,
   "metadata": {},
   "outputs": [
    {
     "name": "stdout",
     "output_type": "stream",
     "text": [
      "La media de A es: 4.0\n",
      "La media de B es: 4.0\n"
     ]
    }
   ],
   "source": [
    "import numpy as np\n",
    "\n",
    "A=[4,4,4,4]\n",
    "B=[0,8,0,8]\n",
    "\n",
    "print('La media de A es:',np.mean(A))\n",
    "print('La media de B es:',np.mean(B))"
   ]
  },
  {
   "cell_type": "markdown",
   "metadata": {},
   "source": [
    "Efectivamente, dos distribuciones muy distintas pueden tener la misma media.\n",
    "\n",
    "Qué otro parámetro nos puede aydar a distinguir las dos distribuciones? Por ejemplo el rango:"
   ]
  },
  {
   "cell_type": "code",
   "execution_count": 41,
   "metadata": {},
   "outputs": [
    {
     "name": "stdout",
     "output_type": "stream",
     "text": [
      "El rango de A es: 0\n",
      "El rango de B es: 8\n"
     ]
    }
   ],
   "source": [
    "rango_A=max(A)-min(A)\n",
    "rango_B=max(B)-min(B)\n",
    "\n",
    "print('El rango de A es:',rango_A)\n",
    "print('El rango de B es:',rango_B)"
   ]
  },
  {
   "cell_type": "markdown",
   "metadata": {},
   "source": [
    "Pero el rango solo considera dos valores, y no es una buena solución:"
   ]
  },
  {
   "cell_type": "code",
   "execution_count": 42,
   "metadata": {},
   "outputs": [
    {
     "name": "stdout",
     "output_type": "stream",
     "text": [
      "La media de C es: 2.176470588235294\n",
      "El rango de C es: 20\n"
     ]
    }
   ],
   "source": [
    "C=[1,1,1,1,1,1,1,1,1,1,1,1,1,1,1,1,21]\n",
    "\n",
    "rango_C=max(C)-min(C)\n",
    "print('La media de C es:',np.mean(C))\n",
    "print('El rango de C es:',rango_C)"
   ]
  },
  {
   "cell_type": "markdown",
   "metadata": {},
   "source": [
    "Vemos que tenemos una distribución con muy poca variabilidad, pero con un rango muy alto. Esto es debido a que solo considera dos valores de la distribución y no toda la distribución."
   ]
  },
  {
   "cell_type": "markdown",
   "metadata": {},
   "source": [
    "Si consideramos todos los valores podemos calcular:\n",
    "\n",
    "<img src=\"Figures/variabilities.svg\" alt=\"Drawing\" style=\"width: 450px;\"/>"
   ]
  },
  {
   "cell_type": "markdown",
   "metadata": {},
   "source": [
    "\n",
    "$$ Distancia Media = \\frac{1}{n} \\sum_i (x_i - \\mu) $$\n"
   ]
  },
  {
   "cell_type": "markdown",
   "metadata": {},
   "source": [
    "Para evitarlo, usaremos:\n",
    "\n",
    "$$ Varianza = \\frac{1}{n} \\sum_i (x_i - \\mu)^2 $$\n",
    "o también: $$ \\sigma^2 = \\frac{1}{n} \\sum_i (x_i - \\mu)^2 $$"
   ]
  },
  {
   "cell_type": "markdown",
   "metadata": {},
   "source": [
    "El problema de la varianza es que no da un valor que no nos ofrece ningún sentido."
   ]
  },
  {
   "cell_type": "code",
   "execution_count": 43,
   "metadata": {},
   "outputs": [
    {
     "name": "stdout",
     "output_type": "stream",
     "text": [
      "La varianza es de: 12.666666666666666\n"
     ]
    }
   ],
   "source": [
    "consumos_semana=[0,7,8]\n",
    "\n",
    "print('La varianza es de:', np.var(consumos_semana))"
   ]
  },
  {
   "cell_type": "markdown",
   "metadata": {},
   "source": [
    "Para esto se usa la **desviacón estándar**\n",
    "\n",
    "Desviación estándar $$ \\sigma = \\sqrt (\\frac{1}{n} \\sum_i (x_i - \\mu)^2) $$\n"
   ]
  },
  {
   "cell_type": "code",
   "execution_count": 44,
   "metadata": {},
   "outputs": [
    {
     "name": "stdout",
     "output_type": "stream",
     "text": [
      "La desviación estandar es de: 3.559026084010437\n",
      "La media es de: 5.0\n"
     ]
    }
   ],
   "source": [
    "consumos=[0,7,8]\n",
    "\n",
    "print('La desviación estandar es de:', np.std(consumos_semana))\n",
    "print('La media es de:', np.mean(consumos_semana))"
   ]
  },
  {
   "cell_type": "markdown",
   "metadata": {},
   "source": [
    "#### Ejercicio\n",
    "\n",
    "Obtener la Varianza, Desviación y Media para las tres distribuciones superiores. ¿Qué valores se obtienen?"
   ]
  },
  {
   "cell_type": "code",
   "execution_count": null,
   "metadata": {},
   "outputs": [],
   "source": [
    "# Resolver aquí"
   ]
  },
  {
   "cell_type": "code",
   "execution_count": 45,
   "metadata": {},
   "outputs": [
    {
     "name": "stdout",
     "output_type": "stream",
     "text": [
      "La desviación estandard es: 0.6724071988516169\n"
     ]
    },
    {
     "data": {
      "image/png": "[encoded data removed]",
      "text/plain": [
       "<Figure size 432x288 with 1 Axes>"
      ]
     },
     "metadata": {
      "needs_background": "light"
     },
     "output_type": "display_data"
    }
   ],
   "source": [
    "media = londres['energy_max'].mean()\n",
    "st_dev = londres['energy_max'].std()\n",
    "londres['energy_max'].plot.hist()\n",
    "plt.axvline(media, color = 'Black', label = 'Media')\n",
    "plt.axvline(media - st_dev, color = 'Red', label = 'Encima')\n",
    "plt.axvline(media + st_dev, color = 'Violet', label = 'Abajo')\n",
    "plt.legend()\n",
    "print(\"La desviación estandard es:\", st_dev)"
   ]
  },
  {
   "cell_type": "markdown",
   "metadata": {},
   "source": [
    "¿Qué ocurre cuando no podemos trabajar con los datos de toda una población y solo tenemos una muestra?\n",
    "\n",
    "Véamos qué pasa si cogemos varias muestras al azar de nuestra distribución de energía máxima:"
   ]
  },
  {
   "cell_type": "code",
   "execution_count": 46,
   "metadata": {},
   "outputs": [
    {
     "name": "stdout",
     "output_type": "stream",
     "text": [
      "La desviación estandard es: 0.1540374600067817\n"
     ]
    },
    {
     "data": {
      "image/png": "[encoded data removed]",
      "text/plain": [
       "<Figure size 432x288 with 1 Axes>"
      ]
     },
     "metadata": {
      "needs_background": "light"
     },
     "output_type": "display_data"
    }
   ],
   "source": [
    "from math import sqrt\n",
    "def standard_deviation(array):\n",
    "    reference_point = sum(array) / len(array)\n",
    "    \n",
    "    distances = []\n",
    "    for value in array:\n",
    "        squared_distance = (value - reference_point)**2\n",
    "        distances.append(squared_distance)\n",
    "    \n",
    "    variance = sum(distances) / len(distances)\n",
    "    \n",
    "    return sqrt(variance)\n",
    "\n",
    "std_lista=[]\n",
    "\n",
    "for i in range(3000):\n",
    "    sd=standard_deviation(londres['energy_max'].sample(20, random_state=i))\n",
    "    std_lista.append(sd)\n",
    "\n",
    "plt.hist(std_lista)\n",
    "std_lista = np.array(std_lista)\n",
    "plt.axvline(std_lista.std(), color='Black', label='Desviación con Muestra')\n",
    "plt.axvline(st_dev, color = 'Red', label = 'Desviación con Población')\n",
    "plt.legend()\n",
    "print(\"La desviación estandard es:\", std_lista.std())"
   ]
  },
  {
   "cell_type": "markdown",
   "metadata": {},
   "source": [
    "Se puede ver como, en general, las desviaciones estándar siempre son inferiores a la real.\n",
    "\n",
    "<img src=\"Figures/bessel1.svg\" alt=\"Drawing\" style=\"width: 600px;\"/>\n",
    "\n",
    "Conseguir muestras que tengas una varianza parecida es muy difícil.\n",
    "\n",
    "<img src=\"Figures/bessel2.svg\" alt=\"Drawing\" style=\"width: 300px;\"/>\n",
    "\n",
    "\n"
   ]
  },
  {
   "cell_type": "markdown",
   "metadata": {
    "scrolled": true,
    "slideshow": {
     "slide_type": "subslide"
    }
   },
   "source": [
    "### Tablas de frecuencia\n",
    "\n",
    "Una tabla de frecuencia nos permite saber cuántas veces aparece cada categoria en una variable. Por suerte Pandas ya nos ofrece herramientas para obtenerla rápidamente:"
   ]
  },
  {
   "cell_type": "code",
   "execution_count": 47,
   "metadata": {
    "scrolled": true
   },
   "outputs": [
    {
     "data": {
      "text/plain": [
       "MAC000113    808\n",
       "MAC005269    750\n",
       "MAC005270    750\n",
       "MAC005319    744\n",
       "MAC005317    744\n",
       "Name: LCLid, dtype: int64"
      ]
     },
     "execution_count": 47,
     "metadata": {},
     "output_type": "execute_result"
    }
   ],
   "source": [
    "frec_counts = londres['LCLid'].value_counts()\n",
    "frec_counts.head()"
   ]
  },
  {
   "cell_type": "markdown",
   "metadata": {},
   "source": [
    "¿En el caso de trabajar con una variable más continua qué pasaría?"
   ]
  },
  {
   "cell_type": "code",
   "execution_count": 48,
   "metadata": {},
   "outputs": [
    {
     "data": {
      "text/plain": [
       "0.047    171\n",
       "0.046    148\n",
       "0.024    137\n",
       "0.000    127\n",
       "0.045     87\n",
       "        ... \n",
       "3.142      1\n",
       "4.476      1\n",
       "2.701      1\n",
       "2.890      1\n",
       "2.064      1\n",
       "Name: energy_max, Length: 2987, dtype: int64"
      ]
     },
     "execution_count": 48,
     "metadata": {},
     "output_type": "execute_result"
    }
   ],
   "source": [
    "frec_counts = londres['energy_max'].value_counts()\n",
    "frec_counts"
   ]
  },
  {
   "cell_type": "markdown",
   "metadata": {},
   "source": [
    "De repente, esta tabla no tiene mucho sentido ni mucha utilidad. Para esto podemos usar el código siguiente:"
   ]
  },
  {
   "cell_type": "code",
   "execution_count": 49,
   "metadata": {},
   "outputs": [
    {
     "data": {
      "text/plain": [
       "(-0.0079, 1.379]    26371\n",
       "(1.379, 2.759]       6190\n",
       "(2.759, 4.138]        372\n",
       "(4.138, 5.518]         43\n",
       "(5.518, 6.897]         16\n",
       "Name: energy_max, dtype: int64"
      ]
     },
     "execution_count": 49,
     "metadata": {},
     "output_type": "execute_result"
    }
   ],
   "source": [
    "frec_counts = londres['energy_max'].value_counts(bins=5)\n",
    "frec_counts"
   ]
  },
  {
   "cell_type": "markdown",
   "metadata": {},
   "source": [
    "Para visualizar las tablas de frecuencia podemos usar Matplotlib como antes, o hacer los gráficos directamente desde pandas, que ya nos da esta posibilidad facilitando el trabajo.\n",
    "\n",
    "Así, en el primer caso, tendríamos:"
   ]
  },
  {
   "cell_type": "code",
   "execution_count": 50,
   "metadata": {},
   "outputs": [
    {
     "data": {
      "text/plain": [
       "<AxesSubplot:>"
      ]
     },
     "execution_count": 50,
     "metadata": {},
     "output_type": "execute_result"
    },
    {
     "data": {
      "image/png": "[encoded data removed]",
      "text/plain": [
       "<Figure size 432x288 with 1 Axes>"
      ]
     },
     "metadata": {
      "needs_background": "light"
     },
     "output_type": "display_data"
    }
   ],
   "source": [
    "londres['LCLid'].value_counts().plot.bar()"
   ]
  },
  {
   "cell_type": "markdown",
   "metadata": {},
   "source": [
    "Y en el segundo caso:"
   ]
  },
  {
   "cell_type": "code",
   "execution_count": 54,
   "metadata": {},
   "outputs": [
    {
     "data": {
      "text/plain": [
       "<AxesSubplot:>"
      ]
     },
     "execution_count": 54,
     "metadata": {},
     "output_type": "execute_result"
    },
    {
     "data": {
      "image/png": "[encoded data removed]",
      "text/plain": [
       "<Figure size 432x288 with 1 Axes>"
      ]
     },
     "metadata": {
      "needs_background": "light"
     },
     "output_type": "display_data"
    }
   ],
   "source": [
    "londres['energy_max'].value_counts(bins=5).plot.bar()"
   ]
  },
  {
   "cell_type": "markdown",
   "metadata": {},
   "source": [
    "### Comparar distribuciones de frecuencia\n",
    "\n",
    "La mejor manera de comparar y evaluar distintas distribuciones de frecuencia es visualizarlas. A continuación hay varios ejemplos:\n"
   ]
  },
  {
   "cell_type": "code",
   "execution_count": 55,
   "metadata": {},
   "outputs": [
    {
     "data": {
      "text/plain": [
       "<matplotlib.legend.Legend at 0x16a37533408>"
      ]
     },
     "execution_count": 55,
     "metadata": {},
     "output_type": "execute_result"
    },
    {
     "data": {
      "image/png": "[encoded data removed]",
      "text/plain": [
       "<Figure size 432x288 with 1 Axes>"
      ]
     },
     "metadata": {
      "needs_background": "light"
     },
     "output_type": "display_data"
    }
   ],
   "source": [
    "import warnings\n",
    "warnings.filterwarnings('ignore')\n",
    "\n",
    "londres['energy_max'].plot.kde()\n",
    "londres['energy_min'].plot.kde()\n",
    "plt.legend()"
   ]
  },
  {
   "cell_type": "code",
   "execution_count": 56,
   "metadata": {},
   "outputs": [
    {
     "data": {
      "text/plain": [
       "<matplotlib.legend.Legend at 0x16a37d185c8>"
      ]
     },
     "execution_count": 56,
     "metadata": {},
     "output_type": "execute_result"
    },
    {
     "data": {
      "image/png": "[encoded data removed]",
      "text/plain": [
       "<Figure size 432x288 with 1 Axes>"
      ]
     },
     "metadata": {
      "needs_background": "light"
     },
     "output_type": "display_data"
    }
   ],
   "source": [
    "import seaborn as sns\n",
    "\n",
    "londres['energy_max'].hist(histtype='stepfilled', label='Energy Max')\n",
    "londres['energy_min'].hist(histtype='stepfilled', color=sns.desaturate(\"indianred\", .75), label='Energy Min')\n",
    "plt.legend()"
   ]
  },
  {
   "cell_type": "markdown",
   "metadata": {},
   "source": [
    "#### Ejercicio\n",
    "\n",
    "Hacer dos boxplots comparando la energia màxima entre dos contadores con LCLid distintos del dataset *londres* cargado."
   ]
  },
  {
   "cell_type": "code",
   "execution_count": 57,
   "metadata": {},
   "outputs": [
    {
     "data": {
      "image/png": "[encoded data removed]",
      "text/plain": [
       "<Figure size 720x504 with 1 Axes>"
      ]
     },
     "metadata": {
      "needs_background": "light"
     },
     "output_type": "display_data"
    }
   ],
   "source": [
    "# Vuestro Codigo!\n",
    "\n",
    "# Vuestro Codigo!\n",
    "MAC113 = londres.loc[londres['LCLid']=='MAC000113', 'energy_max']\n",
    "MAC5270 = londres.loc[londres['LCLid']=='MAC005270', 'energy_max']\n",
    "data = [MAC113, MAC5270]\n",
    "\n",
    "fig = plt.figure(figsize =(10, 7))\n",
    "# Creating axes instance\n",
    "ax = fig.add_axes([0, 0, 1, 1])\n",
    "# Creating plot\n",
    "bp = ax.boxplot(data)\n",
    "# show plot\n",
    "plt.show()"
   ]
  },
  {
   "cell_type": "markdown",
   "metadata": {},
   "source": [
    "**Ejercicio**\n",
    "\n",
    "Inspeccionar la carpeta Data de este repositorio y abrir el archivo con los consumos de electricidad de la zona west-land infra en 2019 en un dataset llamado *netherlands* e inspeccionar las primeras filas\n",
    "\n"
   ]
  },
  {
   "cell_type": "code",
   "execution_count": 58,
   "metadata": {
    "scrolled": false
   },
   "outputs": [
    {
     "data": {
      "text/html": [
       "<div>\n",
       "<style scoped>\n",
       "    .dataframe tbody tr th:only-of-type {\n",
       "        vertical-align: middle;\n",
       "    }\n",
       "\n",
       "    .dataframe tbody tr th {\n",
       "        vertical-align: top;\n",
       "    }\n",
       "\n",
       "    .dataframe thead th {\n",
       "        text-align: right;\n",
       "    }\n",
       "</style>\n",
       "<table border=\"1\" class=\"dataframe\">\n",
       "  <thead>\n",
       "    <tr style=\"text-align: right;\">\n",
       "      <th></th>\n",
       "      <th>net_manager</th>\n",
       "      <th>purchase_area</th>\n",
       "      <th>street</th>\n",
       "      <th>zipcode_from</th>\n",
       "      <th>zipcode_to</th>\n",
       "      <th>city</th>\n",
       "      <th>num_connections</th>\n",
       "      <th>delivery_perc</th>\n",
       "      <th>perc_of_active_connections</th>\n",
       "      <th>type_conn_perc</th>\n",
       "      <th>type_of_connection</th>\n",
       "      <th>annual_consume</th>\n",
       "      <th>annual_consume_lowtarif_perc</th>\n",
       "      <th>smartmeter_perc</th>\n",
       "    </tr>\n",
       "  </thead>\n",
       "  <tbody>\n",
       "    <tr>\n",
       "      <th>0</th>\n",
       "      <td>Cogas Infra &amp; Beheer BV</td>\n",
       "      <td>Netbeheerder Centraal Overijssel B.V.</td>\n",
       "      <td>Dorpsstraat</td>\n",
       "      <td>7468CP</td>\n",
       "      <td>7471AA</td>\n",
       "      <td>ENTER</td>\n",
       "      <td>19</td>\n",
       "      <td>89.47</td>\n",
       "      <td>94.74</td>\n",
       "      <td>89</td>\n",
       "      <td>1x35</td>\n",
       "      <td>4037</td>\n",
       "      <td>89.47</td>\n",
       "      <td>0.0</td>\n",
       "    </tr>\n",
       "    <tr>\n",
       "      <th>1</th>\n",
       "      <td>Cogas Infra &amp; Beheer BV</td>\n",
       "      <td>Netbeheerder Centraal Overijssel B.V.</td>\n",
       "      <td>De Stoevelaar</td>\n",
       "      <td>7471AB</td>\n",
       "      <td>7471AB</td>\n",
       "      <td>GOOR</td>\n",
       "      <td>40</td>\n",
       "      <td>100.00</td>\n",
       "      <td>97.50</td>\n",
       "      <td>80</td>\n",
       "      <td>1x35</td>\n",
       "      <td>2642</td>\n",
       "      <td>95.00</td>\n",
       "      <td>0.0</td>\n",
       "    </tr>\n",
       "    <tr>\n",
       "      <th>2</th>\n",
       "      <td>Cogas Infra &amp; Beheer BV</td>\n",
       "      <td>Netbeheerder Centraal Overijssel B.V.</td>\n",
       "      <td>De Stoevelaar</td>\n",
       "      <td>7471AC</td>\n",
       "      <td>7471AC</td>\n",
       "      <td>GOOR</td>\n",
       "      <td>16</td>\n",
       "      <td>100.00</td>\n",
       "      <td>100.00</td>\n",
       "      <td>100</td>\n",
       "      <td>1x35</td>\n",
       "      <td>1313</td>\n",
       "      <td>100.00</td>\n",
       "      <td>0.0</td>\n",
       "    </tr>\n",
       "    <tr>\n",
       "      <th>3</th>\n",
       "      <td>Cogas Infra &amp; Beheer BV</td>\n",
       "      <td>Netbeheerder Centraal Overijssel B.V.</td>\n",
       "      <td>De Stoevelaar</td>\n",
       "      <td>7471AD</td>\n",
       "      <td>7471AE</td>\n",
       "      <td>GOOR</td>\n",
       "      <td>41</td>\n",
       "      <td>92.68</td>\n",
       "      <td>85.37</td>\n",
       "      <td>54</td>\n",
       "      <td>3x25</td>\n",
       "      <td>6405</td>\n",
       "      <td>92.68</td>\n",
       "      <td>0.0</td>\n",
       "    </tr>\n",
       "    <tr>\n",
       "      <th>4</th>\n",
       "      <td>Cogas Infra &amp; Beheer BV</td>\n",
       "      <td>Netbeheerder Centraal Overijssel B.V.</td>\n",
       "      <td>Kerkstraat</td>\n",
       "      <td>7471AG</td>\n",
       "      <td>7471AG</td>\n",
       "      <td>GOOR</td>\n",
       "      <td>14</td>\n",
       "      <td>85.71</td>\n",
       "      <td>100.00</td>\n",
       "      <td>36</td>\n",
       "      <td>3x25</td>\n",
       "      <td>4742</td>\n",
       "      <td>100.00</td>\n",
       "      <td>0.0</td>\n",
       "    </tr>\n",
       "  </tbody>\n",
       "</table>\n",
       "</div>"
      ],
      "text/plain": [
       "               net_manager                          purchase_area  \\\n",
       "0  Cogas Infra & Beheer BV  Netbeheerder Centraal Overijssel B.V.   \n",
       "1  Cogas Infra & Beheer BV  Netbeheerder Centraal Overijssel B.V.   \n",
       "2  Cogas Infra & Beheer BV  Netbeheerder Centraal Overijssel B.V.   \n",
       "3  Cogas Infra & Beheer BV  Netbeheerder Centraal Overijssel B.V.   \n",
       "4  Cogas Infra & Beheer BV  Netbeheerder Centraal Overijssel B.V.   \n",
       "\n",
       "          street zipcode_from zipcode_to   city  num_connections  \\\n",
       "0    Dorpsstraat       7468CP     7471AA  ENTER               19   \n",
       "1  De Stoevelaar       7471AB     7471AB   GOOR               40   \n",
       "2  De Stoevelaar       7471AC     7471AC   GOOR               16   \n",
       "3  De Stoevelaar       7471AD     7471AE   GOOR               41   \n",
       "4     Kerkstraat       7471AG     7471AG   GOOR               14   \n",
       "\n",
       "   delivery_perc  perc_of_active_connections  type_conn_perc  \\\n",
       "0          89.47                       94.74              89   \n",
       "1         100.00                       97.50              80   \n",
       "2         100.00                      100.00             100   \n",
       "3          92.68                       85.37              54   \n",
       "4          85.71                      100.00              36   \n",
       "\n",
       "  type_of_connection  annual_consume  annual_consume_lowtarif_perc  \\\n",
       "0               1x35            4037                         89.47   \n",
       "1               1x35            2642                         95.00   \n",
       "2               1x35            1313                        100.00   \n",
       "3               3x25            6405                         92.68   \n",
       "4               3x25            4742                        100.00   \n",
       "\n",
       "   smartmeter_perc  \n",
       "0              0.0  \n",
       "1              0.0  \n",
       "2              0.0  \n",
       "3              0.0  \n",
       "4              0.0  "
      ]
     },
     "execution_count": 58,
     "metadata": {},
     "output_type": "execute_result"
    }
   ],
   "source": [
    "import pandas as pd\n",
    "import numpy as np\n",
    "\n",
    "netherlands.head()"
   ]
  },
  {
   "cell_type": "markdown",
   "metadata": {},
   "source": [
    "**Ejercicios** \n",
    "\n",
    "+ ¿Hay missing values? ¿Dónde?\n",
    "+ ¿Cuántos tipos de conexión hay?\n",
    "+ ¿Cuántos pueblos hay en total?\n",
    "+ ¿Qué pueblo tiene más número de conexiones?\n",
    "+ ¿En cuántos casos el zipcode_from es igual al zipcode_to?"
   ]
  },
  {
   "cell_type": "code",
   "execution_count": 72,
   "metadata": {},
   "outputs": [
    {
     "data": {
      "text/plain": [
       "(2107, 14)"
      ]
     },
     "execution_count": 72,
     "metadata": {},
     "output_type": "execute_result"
    }
   ],
   "source": [
    "#Respuesta:\n",
    "\n",
    "netherlands.isna().sum()\n",
    "\n",
    "netherlands['type_of_connection'].value_counts()\n",
    "\n",
    "netherlands['city'].nunique()\n",
    "\n",
    "netherlands.groupby('city')['num_connections'].sum()\n",
    "\n",
    "netherlands[netherlands['zipcode_from']==netherlands['zipcode_to']]"
   ]
  },
  {
   "cell_type": "markdown",
   "metadata": {},
   "source": [
    "### Asimetría\n",
    "\n",
    "En una distribución, también podremos medir la asimetría o el *skewness*:\n",
    "\n",
    "$$ g_1 = \\frac{\\frac{1}{n} \\sum_i (x_i - \\mu)^2 }{\\frac{1}{n} \\sum_i (x_i - \\mu)^3 }$$\n",
    "\n",
    "Otra fórmula que da buenos resultados es *Pearson's median skewness coefficient*:\n",
    "\n",
    "$$ g_p = \\frac{3(\\mu - \\mu_{\\frac{1}{2}})}{\\sigma} $$\n",
    "\n",
    "El skewess muestra:\n",
    "+ Si es negativo es que se extiende más a la izquierda que a la derecha.\n",
    "+ Si es positivo es que se extiende más a la derecha que a la izquierda.\n",
    "\n",
    "En Pandas:"
   ]
  },
  {
   "cell_type": "code",
   "execution_count": null,
   "metadata": {},
   "outputs": [],
   "source": [
    "londres['energy_max'].plot.kde()\n",
    "londres['energy_max'].skew()"
   ]
  }
 ],
 "metadata": {
  "kernelspec": {
   "display_name": "Python 3",
   "language": "python",
   "name": "python3"
  },
  "language_info": {
   "codemirror_mode": {
    "name": "ipython",
    "version": 3
   },
   "file_extension": ".py",
   "mimetype": "text/x-python",
   "name": "python",
   "nbconvert_exporter": "python",
   "pygments_lexer": "ipython3",
   "version": "3.7.4"
  },
  "widgets": {
   "state": {},
   "version": "1.1.1"
  }
 },
 "nbformat": 4,
 "nbformat_minor": 1
}

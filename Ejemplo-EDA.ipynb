{
 "cells": [
  {
   "cell_type": "markdown",
   "metadata": {},
   "source": [
    "<img src=\"Figures/top_ML.png\" alt=\"Drawing\" style=\"width: 1000px;\"/>"
   ]
  },
  {
   "cell_type": "markdown",
   "metadata": {
    "slideshow": {
     "slide_type": "slide"
    }
   },
   "source": [
    "# Estadística "
   ]
  },
  {
   "cell_type": "code",
   "execution_count": 1,
   "metadata": {},
   "outputs": [
    {
     "name": "stderr",
     "output_type": "stream",
     "text": [
      "C:\\Users\\marcjene\\Anaconda3\\lib\\site-packages\\statsmodels\\tools\\_testing.py:19: FutureWarning: pandas.util.testing is deprecated. Use the functions in the public API at pandas.testing instead.\n",
      "  import pandas.util.testing as tm\n"
     ]
    }
   ],
   "source": [
    "import pandas as pd #importamos Pandas!\n",
    "import matplotlib.pyplot as plt #importamos matplotlib para hacer gráficos\n",
    "import seaborn as sns #importamos seaborn para hacer gráficos"
   ]
  },
  {
   "cell_type": "code",
   "execution_count": 2,
   "metadata": {},
   "outputs": [
    {
     "data": {
      "text/html": [
       "<div>\n",
       "<style scoped>\n",
       "    .dataframe tbody tr th:only-of-type {\n",
       "        vertical-align: middle;\n",
       "    }\n",
       "\n",
       "    .dataframe tbody tr th {\n",
       "        vertical-align: top;\n",
       "    }\n",
       "\n",
       "    .dataframe thead th {\n",
       "        text-align: right;\n",
       "    }\n",
       "</style>\n",
       "<table border=\"1\" class=\"dataframe\">\n",
       "  <thead>\n",
       "    <tr style=\"text-align: right;\">\n",
       "      <th></th>\n",
       "      <th>CUPs</th>\n",
       "      <th>cluster</th>\n",
       "      <th>h-0</th>\n",
       "      <th>h-1</th>\n",
       "      <th>h-2</th>\n",
       "      <th>h-3</th>\n",
       "      <th>h-4</th>\n",
       "      <th>h-5</th>\n",
       "      <th>h-6</th>\n",
       "      <th>h-7</th>\n",
       "      <th>...</th>\n",
       "      <th>h-14</th>\n",
       "      <th>h-15</th>\n",
       "      <th>h-16</th>\n",
       "      <th>h-17</th>\n",
       "      <th>h-18</th>\n",
       "      <th>h-19</th>\n",
       "      <th>h-20</th>\n",
       "      <th>h-21</th>\n",
       "      <th>h-22</th>\n",
       "      <th>h-23</th>\n",
       "    </tr>\n",
       "  </thead>\n",
       "  <tbody>\n",
       "    <tr>\n",
       "      <th>0</th>\n",
       "      <td>100001</td>\n",
       "      <td>0</td>\n",
       "      <td>1.38825</td>\n",
       "      <td>1.27750</td>\n",
       "      <td>1.33300</td>\n",
       "      <td>1.18200</td>\n",
       "      <td>1.16975</td>\n",
       "      <td>1.45550</td>\n",
       "      <td>1.34650</td>\n",
       "      <td>1.67500</td>\n",
       "      <td>...</td>\n",
       "      <td>3.51475</td>\n",
       "      <td>3.47500</td>\n",
       "      <td>2.99525</td>\n",
       "      <td>5.05475</td>\n",
       "      <td>3.07300</td>\n",
       "      <td>2.92225</td>\n",
       "      <td>2.71925</td>\n",
       "      <td>2.81200</td>\n",
       "      <td>1.99375</td>\n",
       "      <td>1.3035</td>\n",
       "    </tr>\n",
       "    <tr>\n",
       "      <th>1</th>\n",
       "      <td>100002</td>\n",
       "      <td>0</td>\n",
       "      <td>1.32600</td>\n",
       "      <td>1.21750</td>\n",
       "      <td>1.36875</td>\n",
       "      <td>1.13925</td>\n",
       "      <td>1.17775</td>\n",
       "      <td>1.43775</td>\n",
       "      <td>1.33775</td>\n",
       "      <td>1.34300</td>\n",
       "      <td>...</td>\n",
       "      <td>2.69000</td>\n",
       "      <td>2.77850</td>\n",
       "      <td>2.70525</td>\n",
       "      <td>3.05175</td>\n",
       "      <td>2.99225</td>\n",
       "      <td>2.61175</td>\n",
       "      <td>2.59775</td>\n",
       "      <td>2.66325</td>\n",
       "      <td>1.26450</td>\n",
       "      <td>1.2275</td>\n",
       "    </tr>\n",
       "    <tr>\n",
       "      <th>2</th>\n",
       "      <td>100003</td>\n",
       "      <td>0</td>\n",
       "      <td>1.21200</td>\n",
       "      <td>1.29750</td>\n",
       "      <td>1.10275</td>\n",
       "      <td>1.08825</td>\n",
       "      <td>1.12450</td>\n",
       "      <td>1.16650</td>\n",
       "      <td>1.11525</td>\n",
       "      <td>1.30150</td>\n",
       "      <td>...</td>\n",
       "      <td>2.46725</td>\n",
       "      <td>2.25600</td>\n",
       "      <td>2.60200</td>\n",
       "      <td>2.38925</td>\n",
       "      <td>2.56550</td>\n",
       "      <td>2.71550</td>\n",
       "      <td>6.05875</td>\n",
       "      <td>2.66100</td>\n",
       "      <td>2.26025</td>\n",
       "      <td>1.1555</td>\n",
       "    </tr>\n",
       "    <tr>\n",
       "      <th>3</th>\n",
       "      <td>100004</td>\n",
       "      <td>0</td>\n",
       "      <td>1.08925</td>\n",
       "      <td>1.08125</td>\n",
       "      <td>1.11825</td>\n",
       "      <td>1.05975</td>\n",
       "      <td>1.12675</td>\n",
       "      <td>1.08775</td>\n",
       "      <td>1.12525</td>\n",
       "      <td>1.09100</td>\n",
       "      <td>...</td>\n",
       "      <td>2.21900</td>\n",
       "      <td>2.25625</td>\n",
       "      <td>2.18575</td>\n",
       "      <td>2.60575</td>\n",
       "      <td>2.54750</td>\n",
       "      <td>2.44475</td>\n",
       "      <td>2.48825</td>\n",
       "      <td>2.73000</td>\n",
       "      <td>1.18325</td>\n",
       "      <td>1.1970</td>\n",
       "    </tr>\n",
       "    <tr>\n",
       "      <th>4</th>\n",
       "      <td>100005</td>\n",
       "      <td>0</td>\n",
       "      <td>0.90800</td>\n",
       "      <td>0.88075</td>\n",
       "      <td>1.03975</td>\n",
       "      <td>0.82750</td>\n",
       "      <td>1.02300</td>\n",
       "      <td>0.98700</td>\n",
       "      <td>1.07275</td>\n",
       "      <td>1.19575</td>\n",
       "      <td>...</td>\n",
       "      <td>2.76200</td>\n",
       "      <td>2.90275</td>\n",
       "      <td>2.70900</td>\n",
       "      <td>2.76900</td>\n",
       "      <td>2.78775</td>\n",
       "      <td>2.67200</td>\n",
       "      <td>3.27650</td>\n",
       "      <td>2.76150</td>\n",
       "      <td>3.36600</td>\n",
       "      <td>2.1470</td>\n",
       "    </tr>\n",
       "  </tbody>\n",
       "</table>\n",
       "<p>5 rows × 26 columns</p>\n",
       "</div>"
      ],
      "text/plain": [
       "     CUPs  cluster      h-0      h-1      h-2      h-3      h-4      h-5  \\\n",
       "0  100001        0  1.38825  1.27750  1.33300  1.18200  1.16975  1.45550   \n",
       "1  100002        0  1.32600  1.21750  1.36875  1.13925  1.17775  1.43775   \n",
       "2  100003        0  1.21200  1.29750  1.10275  1.08825  1.12450  1.16650   \n",
       "3  100004        0  1.08925  1.08125  1.11825  1.05975  1.12675  1.08775   \n",
       "4  100005        0  0.90800  0.88075  1.03975  0.82750  1.02300  0.98700   \n",
       "\n",
       "       h-6      h-7  ...     h-14     h-15     h-16     h-17     h-18  \\\n",
       "0  1.34650  1.67500  ...  3.51475  3.47500  2.99525  5.05475  3.07300   \n",
       "1  1.33775  1.34300  ...  2.69000  2.77850  2.70525  3.05175  2.99225   \n",
       "2  1.11525  1.30150  ...  2.46725  2.25600  2.60200  2.38925  2.56550   \n",
       "3  1.12525  1.09100  ...  2.21900  2.25625  2.18575  2.60575  2.54750   \n",
       "4  1.07275  1.19575  ...  2.76200  2.90275  2.70900  2.76900  2.78775   \n",
       "\n",
       "      h-19     h-20     h-21     h-22    h-23  \n",
       "0  2.92225  2.71925  2.81200  1.99375  1.3035  \n",
       "1  2.61175  2.59775  2.66325  1.26450  1.2275  \n",
       "2  2.71550  6.05875  2.66100  2.26025  1.1555  \n",
       "3  2.44475  2.48825  2.73000  1.18325  1.1970  \n",
       "4  2.67200  3.27650  2.76150  3.36600  2.1470  \n",
       "\n",
       "[5 rows x 26 columns]"
      ]
     },
     "execution_count": 2,
     "metadata": {},
     "output_type": "execute_result"
    }
   ],
   "source": [
    "# Importamos Excel\n",
    "consumos = pd.read_excel('Data/data-consumo-usuarios-oversampling.xlsx')\n",
    "consumos.head()"
   ]
  },
  {
   "cell_type": "code",
   "execution_count": 3,
   "metadata": {},
   "outputs": [],
   "source": [
    "# Buscamos valores en cluster\n"
   ]
  },
  {
   "cell_type": "code",
   "execution_count": 4,
   "metadata": {},
   "outputs": [],
   "source": [
    "# Buscamos número de CUPs/clientes\n"
   ]
  },
  {
   "cell_type": "markdown",
   "metadata": {},
   "source": [
    "Forma"
   ]
  },
  {
   "cell_type": "code",
   "execution_count": 5,
   "metadata": {},
   "outputs": [],
   "source": [
    "# Forma del dataset (444 filas, 26 columnas)\n",
    "# Las columnas son (1) CUPs, (1) cluster y (24) consumo horario (de h-0 a h-23)\n"
   ]
  },
  {
   "cell_type": "code",
   "execution_count": 6,
   "metadata": {},
   "outputs": [],
   "source": [
    "# Resumen del dataset\n"
   ]
  },
  {
   "cell_type": "code",
   "execution_count": 7,
   "metadata": {},
   "outputs": [],
   "source": [
    "# Miramos si hay algun valor NaN\n",
    "# Corregimos si es necesario\n"
   ]
  },
  {
   "cell_type": "code",
   "execution_count": 8,
   "metadata": {},
   "outputs": [],
   "source": [
    "# Vamos a ver cuantos casos tenemos en cada uno de los clusters. Tenemos un dataset balanceado?\n",
    "# Casos cluster==0\n",
    "\n",
    "# Casos cluster=1\n"
   ]
  },
  {
   "cell_type": "code",
   "execution_count": 9,
   "metadata": {},
   "outputs": [],
   "source": [
    "# Creamos dos dataframes (uno por cluster) para analizarlos por separado\n"
   ]
  },
  {
   "cell_type": "code",
   "execution_count": 10,
   "metadata": {},
   "outputs": [],
   "source": [
    "# Comparacion consumo horario promedio\n"
   ]
  },
  {
   "cell_type": "code",
   "execution_count": 11,
   "metadata": {},
   "outputs": [],
   "source": [
    "# Eliminamos la columna 'cluster' para poder hacer un plot de las distintas curvas de carga\n",
    "\n",
    "# Hacemos que la columna CUPs sea el indice (tiene sentido, ya que cada fila tiene un valor distinto e identifica el SM)\n",
    "\n",
    "# Transponemos la matriz, por facilidad de hacer el plot\n",
    "\n",
    "# Cambiamos el nombre del índice a \"hour\"\n"
   ]
  },
  {
   "cell_type": "code",
   "execution_count": null,
   "metadata": {},
   "outputs": [],
   "source": []
  },
  {
   "cell_type": "code",
   "execution_count": null,
   "metadata": {},
   "outputs": [],
   "source": []
  }
 ],
 "metadata": {
  "kernelspec": {
   "display_name": "Python 3",
   "language": "python",
   "name": "python3"
  },
  "language_info": {
   "codemirror_mode": {
    "name": "ipython",
    "version": 3
   },
   "file_extension": ".py",
   "mimetype": "text/x-python",
   "name": "python",
   "nbconvert_exporter": "python",
   "pygments_lexer": "ipython3",
   "version": "3.7.4"
  },
  "widgets": {
   "state": {},
   "version": "1.1.1"
  }
 },
 "nbformat": 4,
 "nbformat_minor": 1
}

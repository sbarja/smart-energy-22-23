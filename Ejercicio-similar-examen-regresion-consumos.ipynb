{
 "cells": [
  {
   "cell_type": "markdown",
   "metadata": {},
   "source": [
    "<img src=\"figuras/cabecera.png\" alt=\"Drawing\" style=\"width: 1000px;\"/>"
   ]
  },
  {
   "cell_type": "markdown",
   "metadata": {},
   "source": [
    "# Ejercicio de aprendizaje supervisado: regresión.\n",
    "\n",
    "## *Predicción de consumo en un edificio para el día siguiente*"
   ]
  },
  {
   "cell_type": "markdown",
   "metadata": {},
   "source": [
    "\n",
    "**Objetivo:** predecir el consumo para el día siguiente de una oficina, con el objetivo de gestionar de manera inteligente esos consumos. Se utilizarán datos históricos de la variable target que queremos predecir (datos históricos de consumo) y de otros atributos (features) que pueden ayudar a predecir modelo, como por ejemplo la temperatura o el día de la semana.\n",
    "\n",
    "**Contexto:** Una oficina quiere conocer cuanto consumirá al día siguiente, para adaptar su consumo a los precios variables de la electricidad."
   ]
  },
  {
   "cell_type": "markdown",
   "metadata": {},
   "source": [
    "## Recordatorio: proceso de creación de un modelo de Machine Learning\n",
    "\n",
    "<img src=\"figuras/creacion-modeloML.png\" alt=\"Drawing\" style=\"width: 550px;\"/>"
   ]
  },
  {
   "cell_type": "markdown",
   "metadata": {},
   "source": [
    "### DATA SET\n",
    "\n",
    "\n",
    "Al mismo tiempo, los resultados correspondientes al archivo test (target o consumo previsto) se han dividido en dos partes para hacer una parte de la evaluación pública y otra privada. De esta manera, al subir una solución se mostrará el resultado de la parte pública pero se ocultará el resultado de la evaluación con la parte privada para evitar overfitting. El resultado válido será el obtenido con la evaluación de la parte privada, que se hará pública una vez finalizado el examen. \n",
    "\n",
    "**Ejercicio-regresion-edificio.xlsx**\n",
    "\n",
    "\n",
    "### Features/características \n",
    "* **diasemana**: indica si el día es laborable (lunes a viernes) o findesemana (sábado a domingo).\n",
    "* **temp**: temperatura en (ºC).\n",
    "* **op_nubes**: opacidad de las nubes. Cuanto más alto es este valor, más cubierto está el cielo (%).\n",
    "* **temp_rocio**: temperatura de rocío (ºC).\n",
    "* **irrad**: irradiancia (W/m2)\n",
    "* **precip_agua**: Agua precipitable. Es el total de vapor de agua en la columna atmosférica (mm).\n",
    "* **gen_biomasa**: generación total de biomasa en el mercado diario (kWh).\n",
    "* **empleados**: Número de empleados contratados.\n",
    "* **hum_rel**: Humedad relativa (%).\n",
    "* **visitas_web**: Número de visitas en la web de la empresa.\n",
    "* **presion**: Presión atmosférica.\n",
    "* **dir_viento**: Dirección del viento.\n",
    "* **vel_viento**: Velocidad del viento en m/s. \n",
    "* **vel_viento_2**: Velocidad del viento en km/h.\n",
    "\n",
    "### Target / etiqueta\n",
    "\n",
    "* **consumo**: Consumo del edificio de oficinas en kWh"
   ]
  },
  {
   "cell_type": "markdown",
   "metadata": {},
   "source": [
    "## **1. Importar librerías y datos**\n"
   ]
  },
  {
   "cell_type": "code",
   "execution_count": 1,
   "metadata": {},
   "outputs": [],
   "source": [
    "# Importamos las librerías necesarias\n",
    "\n",
    "    ### Escribe aquí tu código ###\n",
    "\n",
    "    \n",
    "# Cargamos el conjunto de datos de entrada\n",
    "# data = pd.read_excel('XXXXX')\n"
   ]
  },
  {
   "cell_type": "markdown",
   "metadata": {},
   "source": [
    "## **2. Comprender los datos**\n",
    "\n",
    "Es necesario visualizar y comprender los datos con los que vamos a trabajar, así como conocer sus características. \n",
    "\n",
    "1. ¿Cuántos datos hay? ¿Cuántos atributos hay en los datos?  \n",
    "2. Resumen estadístico del conjunto de datos de entrada.\n",
    "3. ¿Falta algún dato?"
   ]
  },
  {
   "cell_type": "markdown",
   "metadata": {},
   "source": [
    "**1. ¿Cuántos datos hay?**  **¿Cuántos atributos hay en los datos?** "
   ]
  },
  {
   "cell_type": "code",
   "execution_count": 2,
   "metadata": {},
   "outputs": [],
   "source": [
    "# Filasxcolumnas de los datos\n",
    "\n",
    "    ### Escribe aquí tu código ###\n"
   ]
  },
  {
   "cell_type": "code",
   "execution_count": 3,
   "metadata": {},
   "outputs": [],
   "source": [
    "# Observa las primeras 5 filas de los datos para ver como son. \n",
    "\n",
    "    ### Escribe aquí tu código ###\n",
    "    "
   ]
  },
  {
   "cell_type": "code",
   "execution_count": 5,
   "metadata": {},
   "outputs": [],
   "source": [
    "# Formato de los datos: (enteros, obj, string, etc.)\n",
    "\n",
    "    ### Escribe aquí tu código ###\n",
    "    "
   ]
  },
  {
   "cell_type": "markdown",
   "metadata": {},
   "source": [
    "**2. Resumen estadístico del conjunto de datos de entrada:** La estadística descriptiva recolecta y analiza el conjunto de datos de entrada con el objetivo de describir las características y comportamientos de este conjunto mediante las siguientes medidas resumen: número total de observaciones (count), media (mean), desviación estándar (std), valor mínimo (min), valor máximo (max) y los valores de los diferentes cuartiles (25%, 50%, 75%)."
   ]
  },
  {
   "cell_type": "code",
   "execution_count": 8,
   "metadata": {},
   "outputs": [],
   "source": [
    "# Datos estadísticos de cada uno de los atributos\n",
    "\n",
    "    ### Escribe aquí tu código ###\n",
    "    "
   ]
  },
  {
   "cell_type": "markdown",
   "metadata": {},
   "source": [
    "## **3. Visualizar los datos**\n",
    "\n",
    "Una manera visual de entender los datos de entrada es mendiante la visualización de las siguientes gráficas. \n",
    "1. Histograma.\n",
    "2. Curva de densidad.\n",
    "3. Boxplots.\n",
    "4. Matriz de correlación.\n"
   ]
  },
  {
   "cell_type": "markdown",
   "metadata": {},
   "source": [
    "**1. Histograma**\n",
    "\n",
    "Respresentación gráfica de cada uno de los atributos en forma de barras, donde la superficie de la barra es proporcional a la frecuencia de los valores representados."
   ]
  },
  {
   "cell_type": "code",
   "execution_count": 9,
   "metadata": {},
   "outputs": [],
   "source": [
    "    ### Escribe aquí tu código ###"
   ]
  },
  {
   "cell_type": "markdown",
   "metadata": {},
   "source": [
    "**2. Gráfico de densidades**\n",
    "\n",
    "Visualiza la distribución de los datos. Es una variable del histograma, pero elimina el ruido, por lo que son mejores para determinar la forma de distribución de un atributo. Lo spicos del gráfico de densidad ayudan a mostrar dónde los valores se concentran más. "
   ]
  },
  {
   "cell_type": "code",
   "execution_count": 10,
   "metadata": {},
   "outputs": [],
   "source": [
    "    ### Escribe aquí tu código ###"
   ]
  },
  {
   "cell_type": "markdown",
   "metadata": {},
   "source": [
    "**3. Boxplots** \n",
    "\n",
    "El boxplot (diagrama de caja) nos permite identificar los valores atípicos y comparar distribuciones. Además, se conoce como se distribuyen el 50% de los valores (dentro de la caja)."
   ]
  },
  {
   "cell_type": "code",
   "execution_count": 11,
   "metadata": {},
   "outputs": [],
   "source": [
    "    ### Escribe aquí tu código ###"
   ]
  },
  {
   "cell_type": "markdown",
   "metadata": {},
   "source": [
    "**4. Matriz de correlación** \n",
    "\n",
    "* ¿Qué característica(s) **no** tiene(n) ninguna correlación con la variable target? \n"
   ]
  },
  {
   "cell_type": "code",
   "execution_count": 12,
   "metadata": {
    "scrolled": false
   },
   "outputs": [],
   "source": [
    "# Cálculo de coeficientes de correlación\n",
    "\n",
    "    ### Escribe aquí tu código ###\n",
    "\n",
    "# Matriz de correlación\n",
    "\n",
    "    ### Escribe aquí tu código ###"
   ]
  },
  {
   "cell_type": "markdown",
   "metadata": {},
   "source": [
    "## *4. Preparar los datos*\n",
    "\n",
    "1. Faltan datos?\n",
    "2. Dividir en X e y\n",
    "3. LabelEncoding (si existen datos categóricos).\n",
    "4. Feature engineering (proceso iterativo).\n",
    "5. Transformación (escalado)."
   ]
  },
  {
   "cell_type": "markdown",
   "metadata": {},
   "source": [
    "**1. ¿Falta algún dato? Comprobar si hay algun missing data (Nan, null...)** "
   ]
  },
  {
   "cell_type": "code",
   "execution_count": 6,
   "metadata": {},
   "outputs": [],
   "source": [
    "# Comprobar si falta algún dato y en qué atributo\n",
    "\n",
    "    ### Escribe aquí tu código ###\n",
    "    "
   ]
  },
  {
   "cell_type": "markdown",
   "metadata": {},
   "source": [
    "Si faltan datos, completa las casillas vacias con el siguiente método de pandas *X.fillna(method='XXXX', inplace=True)* \n",
    "\n",
    "Más info: https://pandas.pydata.org/docs/reference/api/pandas.DataFrame.fillna.html"
   ]
  },
  {
   "cell_type": "code",
   "execution_count": 1,
   "metadata": {},
   "outputs": [],
   "source": [
    "# Si falta algún dato, imputar valores \n",
    "\n",
    "    ### Escribe aquí tu código ###\n",
    "    "
   ]
  },
  {
   "cell_type": "markdown",
   "metadata": {},
   "source": [
    "**2. Divido los datos en *atributos*: **X** (features) y *etiquetas*: **y** (target)"
   ]
  },
  {
   "cell_type": "code",
   "execution_count": 13,
   "metadata": {},
   "outputs": [],
   "source": [
    "# Atributos X (features); etiquetas y (target)\n",
    "\n",
    "    ### Escribe aquí tu código ###"
   ]
  },
  {
   "cell_type": "markdown",
   "metadata": {},
   "source": [
    "**3. Label encoding** \n",
    "\n",
    "Transforma los datos categóricos o string a numéricos si los hubiera. Utiliza **LabelEncoder()** \n",
    "\n",
    "Más info: https://scikit-learn.org/stable/modules/generated/sklearn.preprocessing.LabelEncoder.html"
   ]
  },
  {
   "cell_type": "code",
   "execution_count": 1,
   "metadata": {},
   "outputs": [],
   "source": [
    "# Transforma los datos catergóricos a numéricos.\n",
    "\n",
    "    ### Escribe aquí tu código ###"
   ]
  },
  {
   "cell_type": "markdown",
   "metadata": {},
   "source": [
    "**4. Feature engineering**\n",
    "\n",
    "Observando la matriz de correlación, **eliminar los atributos/características que no tengan ninguna correlación con la variable target (y), o uno que tenga una muy alta correlación con otro atributo, por ejemplo**. PCA, feature importance...\n"
   ]
  },
  {
   "cell_type": "code",
   "execution_count": 25,
   "metadata": {},
   "outputs": [],
   "source": [
    "# Elimino el atributo que tiene correlación 0 con el resto de características.\n",
    "\n",
    "    ### Escribe aquí tu código ###"
   ]
  },
  {
   "cell_type": "markdown",
   "metadata": {},
   "source": [
    "## *5. Dividir los datos*\n",
    "\n",
    "Dividir los datos en:\n",
    "* X_train, y_train //X_val, y_val\n",
    "* X-test, y_test"
   ]
  },
  {
   "cell_type": "code",
   "execution_count": 2,
   "metadata": {},
   "outputs": [],
   "source": [
    "# Dividir los datos en datos de entreno y validación\n",
    "\n",
    "    ### Escribe aquí tu código ###"
   ]
  },
  {
   "cell_type": "markdown",
   "metadata": {},
   "source": [
    "**5. Transformación (escalado)**. \n",
    "\n",
    "* **Si lo estimais oportuno**, escalar los datos utilizando un método de escalado **(StandardScaler()/MinMaxScaler())**"
   ]
  },
  {
   "cell_type": "code",
   "execution_count": 2,
   "metadata": {
    "scrolled": true
   },
   "outputs": [],
   "source": [
    "# Escalado de datos (si procede)\n",
    "\n",
    "    ### Escribe aquí tu código ###"
   ]
  },
  {
   "cell_type": "markdown",
   "metadata": {},
   "source": [
    "## *6. Construcción y evaluación de modelos*"
   ]
  },
  {
   "cell_type": "markdown",
   "metadata": {},
   "source": [
    "* Selecciona **MSE** como métrica de evaluación. \n",
    "* Evalúa los algoritmos de regresión utilizados en la sesión 5 que estimes oportunos. Puedes buscar más en la librería scikitlearn. \n",
    "\n",
    "More info: https://scikit-learn.org/stable/supervised_learning.html\n"
   ]
  },
  {
   "cell_type": "code",
   "execution_count": 3,
   "metadata": {},
   "outputs": [],
   "source": [
    "# Importar librerías\n",
    "    ### Escribe aquí tu código ###\n",
    "\n",
    "# Establece el n_folds\n",
    "    ### Escribe aquí tu código ###\n",
    "\n",
    "# Guarda los resultados de las métricas de evaluación (MSE)\n",
    "# error_metrics = {'neg_mean_squared_error'}\n",
    "    \n",
    "# Nombre de cada algoritmo\n",
    "    ### Escribe aquí tu código ###\n",
    "    \n",
    "    \n",
    "# Imprime el resumen del método de cross-validation\n",
    "\n",
    "# results = [] # guarda los resultados de las métricas de evaluación\n",
    "# names = []  # Nombre de cada algoritmo\n",
    "# msg = []  # imprime el resumen del método de cross-validation\n",
    "    "
   ]
  },
  {
   "cell_type": "markdown",
   "metadata": {},
   "source": [
    "* **¿Cuál obtiene mejores resultados?** "
   ]
  },
  {
   "cell_type": "code",
   "execution_count": 29,
   "metadata": {
    "scrolled": true
   },
   "outputs": [],
   "source": [
    "# importar librerías\n",
    "    ### Escribe aquí tu código ###\n",
    "\n",
    "    \n",
    "# Entreno con validación cruzada\n",
    "    ### Escribe aquí tu código ###\n",
    "\n",
    "    \n",
    "    # Comparar resultados entre algoritmos\n",
    "    ### Escribe aquí tu código ###"
   ]
  },
  {
   "cell_type": "markdown",
   "metadata": {},
   "source": [
    "## *7. Ajustar hiperparámetros*\n",
    "\n",
    "Pasos para realizar el hiperajuste de los parámetros:\n",
    "\n",
    "* Métrica para optimizar: **MSE**\n",
    "* Definir los rangos de los parámetros de búsqueda que estimes oportunos: *params*"
   ]
  },
  {
   "cell_type": "code",
   "execution_count": 4,
   "metadata": {},
   "outputs": [],
   "source": [
    "# Ajustar los hiperparámetros del algoritmo que os ha dado mejores resultados en el training\n",
    "\n",
    "    ### Escribe aquí tu código ###"
   ]
  },
  {
   "cell_type": "markdown",
   "metadata": {},
   "source": [
    "## *8. Evaluación final del modelo*\n",
    "\n"
   ]
  },
  {
   "cell_type": "markdown",
   "metadata": {},
   "source": [
    "Métricas de evaluación:\n",
    "  * MSE\n",
    "    \n",
    "**Entrena el modelo con los hiperparámetros óptimos encontrados en el apartado anterior y realiza las predicciones (y_predict).** "
   ]
  },
  {
   "cell_type": "code",
   "execution_count": 5,
   "metadata": {},
   "outputs": [],
   "source": [
    "# Entrena al modelo seleccionado con los hiperparámetros seleccionados y realiza las predicciones\n",
    "\n",
    "    ### Escribe aquí tu código ###\n"
   ]
  }
 ],
 "metadata": {
  "kernelspec": {
   "display_name": "Python 3 (ipykernel)",
   "language": "python",
   "name": "python3"
  },
  "language_info": {
   "codemirror_mode": {
    "name": "ipython",
    "version": 3
   },
   "file_extension": ".py",
   "mimetype": "text/x-python",
   "name": "python",
   "nbconvert_exporter": "python",
   "pygments_lexer": "ipython3",
   "version": "3.8.13"
  }
 },
 "nbformat": 4,
 "nbformat_minor": 2
}
